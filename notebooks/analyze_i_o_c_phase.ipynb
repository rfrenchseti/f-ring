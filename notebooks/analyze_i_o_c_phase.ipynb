{
 "cells": [
  {
   "cell_type": "code",
   "execution_count": 1,
   "id": "077edc87",
   "metadata": {},
   "outputs": [],
   "source": [
    "import matplotlib.pyplot as plt\n",
    "import numpy as np\n",
    "import pandas as pd\n",
    "import sys\n",
    "if '..' not in sys.path: sys.path.append('..')\n",
    "from f_ring_util import (compute_corrected_ew, \n",
    "                         compute_corrected_ew_col,\n",
    "                         fit_hg_phase_function, \n",
    "                         hg_func,\n",
    "                         print_hg_params)\n",
    "pd.set_option('display.max_rows', None)\n",
    "\n",
    "# analyze_tau version that only applies tau correction to core range (but, includes all points in optimization)\n",
    "# (cleaned-up version of 3-region analyze_tau script, also using slope tau optimization)"
   ]
  },
  {
   "cell_type": "code",
   "execution_count": 2,
   "id": "8a4c2fcd",
   "metadata": {},
   "outputs": [],
   "source": [
    "# Define functions to process data\n",
    "\n",
    "def remove_eqx(orig_obsdata, eqx_cutoff):\n",
    "    #remove EQX observations\n",
    "    #orig_obsdata: original pandas dataframe\n",
    "    #returns: obsdata (EQX observations removed)\n",
    "    \n",
    "    good_i = np.abs(orig_obsdata['Incidence']-90) > eqx_cutoff\n",
    "    obsdata = orig_obsdata[good_i]\n",
    "    print('Removed EQX OBSIDs:', set(orig_obsdata[~good_i].groupby('Observation').indices))\n",
    "    print('Unique observation names:', len(obsdata))\n",
    "    print()\n",
    "    \n",
    "    return obsdata\n",
    "\n",
    "def remove_outliers(obsdata, outlier_obs):\n",
    "    #remove 3 outliers from ~phase 50-60 before fitting for tau\n",
    "    #(located by hand, removing from all 3 by observation name)\n",
    "    \n",
    "    for obsid in outlier_obs:\n",
    "        #drop row containing outlier ob\n",
    "        obsdata = obsdata[obsdata.index != obsid]\n",
    "            \n",
    "    print('Removed outlier OBSIDs:', outlier_obs)\n",
    "    print('Unique observation names:', len(obsdata))\n",
    "    print()\n",
    "    return obsdata\n"
   ]
  },
  {
   "cell_type": "code",
   "execution_count": 3,
   "id": "606a4c94",
   "metadata": {},
   "outputs": [],
   "source": [
    "#degrees within 90 (incidence angle) to cut off/get rid of observations\n",
    "eqx_cutoff = 1.5\n",
    "\n",
    "#list outlier obsids\n",
    "outliers = ['ISS_091RF_FMOVIE003_PRIME', 'ISS_107RF_FMOVIE002_PRIME', 'ISS_189RF_FMOVIE001_PRIME']"
   ]
  },
  {
   "cell_type": "code",
   "execution_count": 4,
   "id": "d7cf8a3a",
   "metadata": {},
   "outputs": [],
   "source": [
    "# Read in the CSV files (full-width, then the 3 different regions)\n",
    "\n",
    "#get the full-width image data\n",
    "full_img_filepath = '../data_files/ew_stats_139470_140120_140320_140965_0.csv'\n",
    "full_orig_obsdata = pd.read_csv(full_img_filepath, parse_dates=['Date'], index_col='Observation')\n",
    "\n",
    "#calculate mu, mu0 \n",
    "full_orig_obsdata['Mu'] = np.abs(np.cos(np.radians(full_orig_obsdata['Mean Emission'])))\n",
    "full_orig_obsdata['Mu0'] = np.abs(np.cos(np.radians(full_orig_obsdata['Incidence'])))"
   ]
  },
  {
   "cell_type": "code",
   "execution_count": 5,
   "id": "60a34c54",
   "metadata": {},
   "outputs": [
    {
     "name": "stdout",
     "output_type": "stream",
     "text": [
      "** SUMMARY STATISTICS **\n",
      "Unique observation names: 151\n",
      "Total slices: 151\n",
      "Starting date: 2004-06-20 20:03:28\n",
      "Ending date: 2017-09-06 11:47:07\n",
      "Time span: 4825 days 15:43:39\n",
      "\n",
      "../data_files/ew_stats_139470_140120_140320_140965_0.csv\n",
      "\n"
     ]
    }
   ],
   "source": [
    "#print initial statistics\n",
    "print('** SUMMARY STATISTICS **')\n",
    "print('Unique observation names:', len(full_orig_obsdata.groupby('Observation')))\n",
    "print('Total slices:', len(full_orig_obsdata))\n",
    "print('Starting date:', full_orig_obsdata['Date'].min())\n",
    "print('Ending date:', full_orig_obsdata['Date'].max())\n",
    "print('Time span:', full_orig_obsdata['Date'].max()-full_orig_obsdata['Date'].min())\n",
    "print()\n",
    "\n",
    "print(full_img_filepath)\n",
    "print()\n"
   ]
  },
  {
   "cell_type": "code",
   "execution_count": 6,
   "id": "cd2c8071",
   "metadata": {},
   "outputs": [
    {
     "name": "stdout",
     "output_type": "stream",
     "text": [
      "Removed EQX OBSIDs: {'ISS_115RF_FMOVIEEQX001_PRIME', 'ISS_111RF_FMOVIE002_PRIME', 'ISS_114RF_FMOVIEEQX001_PRIME', 'ISS_110RF_FMOVIE002_PRIME', 'ISS_112RF_FMOVIE002_PRIME_2', 'ISS_112RF_FMOVIE002_PRIME_1'}\n",
      "Unique observation names: 145\n",
      "\n",
      "Removed outlier OBSIDs: ['ISS_091RF_FMOVIE003_PRIME', 'ISS_107RF_FMOVIE002_PRIME', 'ISS_189RF_FMOVIE001_PRIME']\n",
      "Unique observation names: 142\n",
      "\n"
     ]
    }
   ],
   "source": [
    "#remove EQX observations\n",
    "removed_eqx_obsdata = remove_eqx(full_orig_obsdata, eqx_cutoff)\n",
    "\n",
    "#remove outliers\n",
    "obsdata = remove_outliers(removed_eqx_obsdata, outliers)"
   ]
  },
  {
   "cell_type": "code",
   "execution_count": 18,
   "id": "0c372642",
   "metadata": {},
   "outputs": [
    {
     "name": "stdout",
     "output_type": "stream",
     "text": [
      "\n",
      "Inner H-G params:\n",
      "  g1 =  0.634 / scale1 =  0.502 / weight1 = 0.797\n",
      "  g2 = -0.182 / scale2 =  0.128 / weight2 = 0.203\n",
      "  Standard deviation: 0.11578\n",
      "\n",
      "Core H-G params:\n",
      "  g1 =  0.626 / scale1 =  1.156 / weight1 = 0.605\n",
      "  g2 =  0.040 / scale2 =  0.755 / weight2 = 0.395\n",
      "  Standard deviation: 0.06427\n",
      "\n",
      "Outer H-G params:\n",
      "  g1 =  0.998 / scale1 = 13.003 / weight1 = 0.987\n",
      "  g2 =  0.222 / scale2 =  0.172 / weight2 = 0.013\n",
      "  Standard deviation: 0.23729\n"
     ]
    }
   ],
   "source": [
    "ewi_hg_params, ewi_hg_used_data, ewi_hg_std = fit_hg_phase_function(2, None, obsdata, col_tau=('Normal EWI', None),\n",
    "                                                                 verbose=False)\n",
    "print()\n",
    "print('Inner H-G params:')\n",
    "print_hg_params(ewi_hg_params, indent=2)\n",
    "print(f'  Standard deviation: {ewi_hg_std:.5f}')\n",
    "\n",
    "ewc_hg_params, ewc_hg_used_data, ewc_hg_std = fit_hg_phase_function(2, None, obsdata, col_tau=('Normal EWC', 0.042),\n",
    "                                                                 verbose=False)\n",
    "print()\n",
    "print('Core H-G params:')\n",
    "print_hg_params(ewc_hg_params, indent=2)\n",
    "print(f'  Standard deviation: {ewc_hg_std:.5f}')\n",
    "\n",
    "ewo_hg_params, ewo_hg_used_data, ewo_hg_std = fit_hg_phase_function(2, None, obsdata, col_tau=('Normal EWO', None),\n",
    "                                                                 verbose=False)\n",
    "print()\n",
    "print('Outer H-G params:')\n",
    "print_hg_params(ewo_hg_params, indent=2)\n",
    "print(f'  Standard deviation: {ewo_hg_std:.5f}')\n"
   ]
  },
  {
   "cell_type": "code",
   "execution_count": 37,
   "id": "93e61b73",
   "metadata": {},
   "outputs": [
    {
     "data": {
      "text/plain": [
       "Text(0.5, 1.0, 'Normal EW vs. Phase Angle (inner/core/outer)')"
      ]
     },
     "execution_count": 37,
     "metadata": {},
     "output_type": "execute_result"
    },
    {
     "data": {
      "image/png": "[encoded data removed]",
      "text/plain": [
       "<Figure size 432x288 with 1 Axes>"
      ]
     },
     "metadata": {
      "needs_background": "light"
     },
     "output_type": "display_data"
    }
   ],
   "source": [
    "# Plot results\n",
    "# plt.figure(figsize=(12,9)) \n",
    "# plt.subplot(3, 1, 1)\n",
    "plt.scatter(obsdata['Mean Phase'], obsdata['Normal EWI']/hg_func(ewi_hg_params, 0), s=10, c='red', alpha=0.5, label='EWI')\n",
    "plt.scatter(obsdata['Mean Phase'], compute_corrected_ew_col(obsdata, ('Normal EWC', 0.042))/hg_func(ewc_hg_params, 0), s=10, c='green', alpha=0.5, label='EWC')\n",
    "plt.scatter(obsdata['Mean Phase'], obsdata['Normal EWO']/hg_func(ewo_hg_params, 0), s=10, c='blue', alpha=0.5, label='EWO')\n",
    "xrange = np.arange(obsdata['Mean Phase'].min(), obsdata['Mean Phase'].max()+1)\n",
    "ewi_phase_model = hg_func(ewi_hg_params, xrange)/hg_func(ewi_hg_params, 0)\n",
    "plt.plot(xrange, ewi_phase_model, '-', color='red', lw=3)\n",
    "ewc_phase_model = hg_func(ewc_hg_params, xrange)/hg_func(ewc_hg_params, 0)\n",
    "plt.plot(xrange, ewc_phase_model, '-', color='green', lw=3)\n",
    "ewo_phase_model = hg_func(ewo_hg_params, xrange)/hg_func(ewo_hg_params, 0)\n",
    "plt.plot(xrange, ewo_phase_model, '-', color='blue', lw=3)\n",
    "\n",
    "\n",
    "plt.legend()\n",
    "plt.xlabel('Phase Angle (°)')\n",
    "plt.ylabel('Phase=0 Normalized EW')\n",
    "plt.title('Normal EW vs. Phase Angle (inner/core/outer)')"
   ]
  },
  {
   "cell_type": "code",
   "execution_count": null,
   "id": "e30d0150",
   "metadata": {},
   "outputs": [],
   "source": []
  }
 ],
 "metadata": {
  "kernelspec": {
   "display_name": "Python 3 (ipykernel)",
   "language": "python",
   "name": "python3"
  },
  "language_info": {
   "codemirror_mode": {
    "name": "ipython",
    "version": 3
   },
   "file_extension": ".py",
   "mimetype": "text/x-python",
   "name": "python",
   "nbconvert_exporter": "python",
   "pygments_lexer": "ipython3",
   "version": "3.8.10"
  }
 },
 "nbformat": 4,
 "nbformat_minor": 5
}
