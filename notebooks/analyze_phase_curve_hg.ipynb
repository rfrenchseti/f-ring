{
 "cells": [
  {
   "cell_type": "code",
   "execution_count": 4,
   "id": "9fab0dea",
   "metadata": {},
   "outputs": [],
   "source": [
    "import matplotlib.pyplot as plt\n",
    "import numpy as np\n",
    "import pandas as pd\n",
    "import sys\n",
    "if '..' not in sys.path: sys.path.append('..')\n",
    "from f_ring_util import (compute_corrected_ew, \n",
    "                         fit_hg_phase_function, \n",
    "                         hg_func,\n",
    "                         print_hg_params)"
   ]
  },
  {
   "cell_type": "code",
   "execution_count": 5,
   "id": "ffb58b41",
   "metadata": {},
   "outputs": [
    {
     "name": "stdout",
     "output_type": "stream",
     "text": [
      "** SUMMARY STATISTICS **\n",
      "Unique observation names: 152\n",
      "Total slices: 36366\n",
      "Starting date: 2004-06-20 20:03:28\n",
      "Ending date: 2017-09-07 02:15:23\n",
      "Time span: 4826 days 06:11:55\n"
     ]
    }
   ],
   "source": [
    "# Read the data, dump statistics, and populate derived metadata\n",
    "obsdata = pd.read_csv('../data_files/good_qual_1deg.csv', parse_dates=['Date'])\n",
    "print('** SUMMARY STATISTICS **')\n",
    "print('Unique observation names:', len(obsdata.groupby('Observation')))\n",
    "print('Total slices:', len(obsdata))\n",
    "print('Starting date:', obsdata['Date'].min())\n",
    "print('Ending date:', obsdata['Date'].max())\n",
    "print('Time span:', obsdata['Date'].max()-obsdata['Date'].min())\n",
    "obsdata['Mu'] = np.abs(np.cos(np.radians(obsdata['Mean Emission'])))\n",
    "obsdata['Mu0'] = np.abs(np.cos(np.radians(obsdata['Incidence'])))"
   ]
  },
  {
   "cell_type": "markdown",
   "id": "302c7812",
   "metadata": {},
   "source": [
    "# Phase Curve with All Slices"
   ]
  },
  {
   "cell_type": "code",
   "execution_count": 6,
   "id": "0923610d",
   "metadata": {
    "scrolled": false
   },
   "outputs": [
    {
     "name": "stdout",
     "output_type": "stream",
     "text": [
      "Ratio min -0.338075834383094 Max 0.8162755822542669 Sigma 0.11517966240657501\n",
      "Ratio min -0.21795450011997053 Max 0.25822953451972347 Sigma 0.0891141972916538\n",
      "Ratio min -0.1729992154670856 Max 0.18835112726317765 Sigma 0.07778901305679106\n",
      "Ratio min -0.15302494431311808 Max 0.16073125140590114 Sigma 0.07179274913819954\n",
      "Ratio min -0.14205309069817826 Max 0.1469039320248125 Sigma 0.06815731360127525\n",
      "Ratio min -0.13577118687753756 Max 0.13845596182853245 Sigma 0.06571922045922121\n",
      "Ratio min -0.1309938281036126 Max 0.13302708097475802 Sigma 0.06404225135457513\n",
      "Ratio min -0.1273488614795385 Max 0.12894668607055598 Sigma 0.06287692798455954\n",
      "Ratio min -0.125439760295517 Max 0.12648831837948854 Sigma 0.0620424586882903\n",
      "Ratio min -0.12382001093488175 Max 0.1245560265292851 Sigma 0.06147359978814893\n",
      "Ratio min -0.12283958591001833 Max 0.12324896310978156 Sigma 0.06102161647863171\n",
      "Ratio min -0.12179736001960488 Max 0.12225533355687976 Sigma 0.060689506330124286\n",
      "Ratio min -0.12127929608025124 Max 0.12159363013870766 Sigma 0.06043953337932871\n",
      "Ratio min -0.1208209175891744 Max 0.12096522075027163 Sigma 0.06028127209595625\n",
      "Ratio min -0.120460147318533 Max 0.12064913518699898 Sigma 0.06018596119704667\n",
      "Ratio min -0.12026670336839933 Max 0.12048680084873528 Sigma 0.06012967084208057\n",
      "Ratio min -0.1201927982762075 Max 0.12028273555807581 Sigma 0.06008104254007914\n",
      "Ratio min -0.12013804982178683 Max 0.1202068979484696 Sigma 0.0600524294846013\n",
      "Ratio min -0.12008412748934344 Max 0.12013747788416272 Sigma 0.06001825042713261\n",
      "Ratio min -0.12004624345553994 Max 0.12008237128849256 Sigma 0.05998754426744067\n",
      "Ratio min -0.11993878429441558 Max 0.11999968384160142 Sigma 0.05995269241170437\n",
      "Ratio min -0.1198320176385463 Max 0.1199004858518956 Sigma 0.059931716286366746\n",
      "Ratio min -0.11981713308945645 Max 0.11990160922247149 Sigma 0.05991772075707825\n",
      "Ratio min -0.11981710169956922 Max 0.11984102896996997 Sigma 0.05991100449260363\n",
      "Ratio min -0.1198177312937068 Max 0.11984368413474324 Sigma 0.05989729403611585\n",
      "Ratio min -0.11973668138769471 Max 0.11982870664253847 Sigma 0.05987803886126276\n",
      "Ratio min -0.11971925979199308 Max 0.1197685774462154 Sigma 0.05986810251446722\n",
      "Ratio min -0.11971091035054736 Max 0.11973360255767325 Sigma 0.05985208355104434\n",
      "Ratio min -0.11970126707540363 Max 0.11968288278978222 Sigma 0.05984314883654057\n",
      "Ratio min -0.11966967829299203 Max 0.11968386878677029 Sigma 0.05984046880248587\n",
      "Ratio min -0.11965973943063477 Max 0.11962547240684117 Sigma 0.059837352563489564\n",
      "Final all-slice params\n",
      "g1 = 0.641 weight1 = 0.696\n",
      "g2 = -0.043 weight2 = 0.304\n"
     ]
    }
   ],
   "source": [
    "all_slice_params, all_slice_used_data, all_slice_std = fit_hg_phase_function(2, 2, obsdata)\n",
    "print('Final all-slice params')\n",
    "print_hg_params(all_slice_params)\n",
    "obsdata['Phase Model'] = hg_func(all_slice_params, np.radians(obsdata['Mean Phase']))"
   ]
  },
  {
   "cell_type": "code",
   "execution_count": null,
   "id": "74610ef6",
   "metadata": {},
   "outputs": [],
   "source": [
    "# Plot the individual slice data points\n",
    "plt.plot(obsdata['Mean Phase'], obsdata['Normal EW'], '.', color='black', alpha=0.3, \n",
    "         label='All Slice Data')\n",
    "\n",
    "# Plot the phase model sampled at 1-degree intervals\n",
    "xrange = np.arange(obsdata['Mean Phase'].min(), obsdata['Mean Phase'].max()+1)\n",
    "all_slice_phase_model = hg_func(all_slice_params, np.radians(xrange))\n",
    "plt.plot(xrange, all_slice_phase_model, '-', color='green', lw=5, label='Phase model')\n",
    "plt.yscale('log')\n",
    "plt.legend()\n",
    "plt.xlabel('Phase Angle (°)')\n",
    "plt.ylabel('Normal EW')\n",
    "_=plt.title('All-Slice Phase Curve Model & All Data Points')"
   ]
  },
  {
   "cell_type": "code",
   "execution_count": null,
   "id": "e00bc7b9",
   "metadata": {},
   "outputs": [],
   "source": [
    "# Now plot the same phase curve, but with only the data points that were used in the \n",
    "# model fit\n",
    "plt.plot(all_slice_used_data['Mean Phase'], all_slice_used_data['Normal EW'], \n",
    "         '.', color='black', alpha=0.3, label='Used Slice Data')\n",
    "plt.plot(xrange, all_slice_phase_model, '-', color='green', lw=5, label='Phase model')\n",
    "plt.yscale('log')\n",
    "plt.legend()\n",
    "plt.xlabel('Phase Angle (°)')\n",
    "plt.ylabel('Normal EW')\n",
    "_=plt.title('All-Slice Phase Curve Model & Used Data Points')"
   ]
  },
  {
   "cell_type": "code",
   "execution_count": null,
   "id": "595cc12f",
   "metadata": {},
   "outputs": [],
   "source": [
    "# Plot NEW/Phase Curve ratio vs. Time with a fit curve for all data\n",
    "time0 = np.datetime64('1970-01-01T00:00:00')\n",
    "obsdata['Date_secs'] = (obsdata['Date']-time0).dt.total_seconds()/86400\n",
    "obsdata['Phase Curve Ratio'] = obsdata['Normal EW'] / obsdata['Phase Model']\n",
    "timecoeff = np.polyfit(obsdata['Date_secs'], obsdata['Phase Curve Ratio'], 3)\n",
    "plt.plot(obsdata['Date'], obsdata['Phase Curve Ratio'], '.')\n",
    "timerange = np.arange(obsdata['Date_secs'].min(), obsdata['Date_secs'].max(), 100)\n",
    "timefit = np.polyval(timecoeff, timerange)\n",
    "plt.plot(timerange, timefit, '-')\n",
    "plt.yscale('log')\n",
    "plt.xlabel('Date of Observation')\n",
    "plt.ylabel('Normal EW / Full Phase Model')\n",
    "_=plt.title('NEW/Phase Model (All Slices) - Full Phase Curve')\n"
   ]
  },
  {
   "cell_type": "code",
   "execution_count": null,
   "id": "cf9768e3",
   "metadata": {
    "scrolled": true
   },
   "outputs": [],
   "source": [
    "# Plot all slices NEW/Phase Curve ratio vs. Time with a fit curve\n",
    "timecoeff = np.polyfit(obsdata['Date_secs'], obsdata['Phase Curve Ratio'], 3)\n",
    "timerange = np.arange(obsdata['Date_secs'].min(), obsdata['Date_secs'].max(), 100)\n",
    "timefit = np.polyval(timecoeff, timerange)\n",
    "plt.scatter(obsdata['Date'], obsdata['Phase Curve Ratio'], c=obsdata['Mean Phase'])\n",
    "plt.plot(timerange, timefit, '-')\n",
    "plt.yscale('log')\n",
    "plt.xlabel('Date of Observation')\n",
    "plt.ylabel('Normal EW / Full Phase Model')\n",
    "_=plt.title('NEW/Phase Model (All Slices) - Full Phase Curve')"
   ]
  },
  {
   "cell_type": "code",
   "execution_count": null,
   "id": "2da485ce",
   "metadata": {
    "scrolled": true
   },
   "outputs": [],
   "source": [
    "# Plot minimum-slices-only NEW/Phase Curve ratio vs. Time with a fit curve\n",
    "mindata=obsdata.copy().iloc[obsdata.groupby('Observation').idxmin()['Normal EW']]\n",
    "maxdata=obsdata.copy().iloc[obsdata.groupby('Observation').idxmax()['Normal EW']]\n",
    "mindata['All Phase Model'] = hg_func(all_slice_params, np.radians(mindata['Mean Phase']))\n",
    "mindata['All Phase Curve Ratio'] = mindata['Normal EW'] / mindata['All Phase Model']\n",
    "timecoeff = np.polyfit(mindata['Date_secs'], mindata['All Phase Curve Ratio'], 3)\n",
    "timerange = np.arange(mindata['Date_secs'].min(), mindata['Date_secs'].max(), 100)\n",
    "timefit = np.polyval(timecoeff, timerange)\n",
    "plt.scatter(mindata['Date'], mindata['All Phase Curve Ratio'], c=mindata['Mean Phase'])\n",
    "plt.plot(timerange, timefit, '-')\n",
    "plt.xlabel('Date of Observation')\n",
    "plt.ylabel('Normal EW / Full Phase Model')\n",
    "_=plt.title('NEW/Phase Model (Min Slices) - Full Phase Curve')"
   ]
  },
  {
   "cell_type": "code",
   "execution_count": null,
   "id": "75aad44a",
   "metadata": {},
   "outputs": [],
   "source": [
    "# Plot minimum-slices-only NEW/Phase Curve ratio vs. u\n",
    "# This checks for sensitivity of the phase curve to emission angle to see if\n",
    "# the simple mu adjustment is good enough\n",
    "mindata=obsdata.copy().iloc[obsdata.groupby('Observation').idxmin()['Normal EW']]\n",
    "maxdata=obsdata.copy().iloc[obsdata.groupby('Observation').idxmax()['Normal EW']]\n",
    "mindata['All Phase Model'] = hg_func(all_slice_params, np.radians(mindata['Mean Phase']))\n",
    "mindata['All Phase Curve Ratio'] = mindata['Normal EW'] / mindata['All Phase Model']\n",
    "mucoeff = np.polyfit(mindata['Mu'], mindata['All Phase Curve Ratio'], 3)\n",
    "murange = np.arange(mindata['Mu'].min(), mindata['Mu'].max(), .001)\n",
    "mufit = np.polyval(mucoeff, murange)\n",
    "plt.scatter(mindata['Mu'], mindata['All Phase Curve Ratio'], c=mindata['Mean Phase'])\n",
    "plt.plot(murange, mufit, '-')\n",
    "plt.xlabel('$\\mu=|\\cos(e)|$')\n",
    "plt.ylabel('Normal EW / Full Phase Model')\n",
    "_=plt.title('NEW/Phase Model (Min Slices) - Full Phase Curve')"
   ]
  },
  {
   "cell_type": "code",
   "execution_count": null,
   "id": "18e08966",
   "metadata": {},
   "outputs": [],
   "source": [
    "# Plot minimum-slices-only NEW/Phase Curve ratio vs. u0\n",
    "# This checks for sensitivity of the phase curve to emission angle to see if\n",
    "# the simple mu adjustment is good enough\n",
    "mindata=obsdata.copy().iloc[obsdata.groupby('Observation').idxmin()['Normal EW']]\n",
    "maxdata=obsdata.copy().iloc[obsdata.groupby('Observation').idxmax()['Normal EW']]\n",
    "mindata['All Phase Model'] = hg_func(all_slice_params, np.radians(mindata['Mean Phase']))\n",
    "mindata['All Phase Curve Ratio'] = mindata['Normal EW'] / mindata['All Phase Model']\n",
    "mucoeff = np.polyfit(mindata['Mu0'], mindata['All Phase Curve Ratio'], 3)\n",
    "murange = np.arange(mindata['Mu0'].min(), mindata['Mu0'].max(), .001)\n",
    "mufit = np.polyval(mucoeff, murange)\n",
    "plt.scatter(mindata['Mu0'], mindata['All Phase Curve Ratio'], c=mindata['Mean Phase'])\n",
    "plt.plot(murange, mufit, '-')\n",
    "plt.xlabel('$\\mu_0=|\\cos(i)|$')\n",
    "plt.ylabel('Normal EW / Full Phase Model')\n",
    "_=plt.title('NEW/Phase Model (Min Slices) - Full Phase Curve')"
   ]
  },
  {
   "cell_type": "markdown",
   "id": "29f6ac0c",
   "metadata": {},
   "source": [
    "# Phase Curve with Minimum Slices Only"
   ]
  },
  {
   "cell_type": "code",
   "execution_count": null,
   "id": "c6f17d51",
   "metadata": {},
   "outputs": [],
   "source": [
    "min_slice_params, min_slice_used_data, min_slice_std = fit_hg_phase_function(2, None, mindata)\n",
    "print('Final min-slice params')\n",
    "print_hg_params(min_slice_params)\n",
    "mindata['Phase Model'] = hg_func(min_slice_params, np.radians(mindata['Mean Phase']))\n",
    "\n",
    "# Plot the individual slice data points\n",
    "plt.plot(mindata['Mean Phase'], mindata['Normal EW'], '.', color='black', alpha=0.3, \n",
    "         label='Min Slice Data')\n",
    "\n",
    "# Plot the phase model sampled at 1-degree intervals\n",
    "xrange = np.arange(obsdata['Mean Phase'].min(), obsdata['Mean Phase'].max()+1)\n",
    "min_slice_phase_model = hg_func(min_slice_params, np.radians(xrange))\n",
    "plt.plot(xrange, min_slice_phase_model, '-', color='green', lw=5, label='Min Phase model')\n",
    "plt.yscale('log')\n",
    "plt.legend()\n",
    "plt.xlabel('Phase Angle (°)')\n",
    "plt.ylabel('Normal EW')\n",
    "_=plt.title('Phase Curve Model (Min Slices)')"
   ]
  },
  {
   "cell_type": "code",
   "execution_count": null,
   "id": "f9a42df3",
   "metadata": {},
   "outputs": [],
   "source": [
    "plt.plot(min_slice_used_data['Mean Phase'], min_slice_used_data['Normal EW'],\n",
    "         '.', color='black', alpha=0.3, label='Used Min Slice Data')\n",
    "# plt.plot(xrange, all_slice_phase_model, '-', color='green', lw=5, label='Full Phase model')\n",
    "plt.plot(xrange, min_slice_phase_model, '-', color='green', lw=5, label='Min Phase model')\n",
    "plt.yscale('log')\n",
    "plt.legend()\n",
    "plt.xlabel('Phase Angle (°)')\n",
    "plt.ylabel('Normal EW')\n",
    "_=plt.title('Phase Curve Model (Min Slices, Used Data Points)')\n",
    "print('** Statistics - ratio of full phase curve / min phase curve')\n",
    "ratio = all_slice_phase_model / min_slice_phase_model\n",
    "print('Ratio min:', ratio.min())\n",
    "print('Ratio max:', ratio.max())\n",
    "print('Ratio mean:', ratio.mean())\n",
    "print('Ratio median:', np.median(ratio))"
   ]
  },
  {
   "cell_type": "code",
   "execution_count": null,
   "id": "7d5deaf3",
   "metadata": {
    "scrolled": true
   },
   "outputs": [],
   "source": [
    "mindata['Phase Curve Ratio'] = mindata['Normal EW'] / mindata['Phase Model']\n",
    "timecoeff = np.polyfit(mindata['Date_secs'], mindata['Phase Curve Ratio'], 1)\n",
    "plt.scatter(mindata['Date'], mindata['Phase Curve Ratio'], c=mindata['Mean Phase'])\n",
    "timerange = np.arange(mindata['Date_secs'].min(), mindata['Date_secs'].max(), 100)\n",
    "timefit = np.polyval(timecoeff, timerange)\n",
    "plt.plot(timerange, timefit, '-')\n",
    "plt.xlabel('Date of Observation')\n",
    "plt.ylabel('Normal EW / Min Phase Model')\n",
    "_=plt.title('NEW/Phase Model (Min Slices) - Min Phase Curve')"
   ]
  },
  {
   "cell_type": "code",
   "execution_count": null,
   "id": "dac40dd8",
   "metadata": {
    "scrolled": true
   },
   "outputs": [],
   "source": [
    "# Plot minimum-slices-only NEW/Phase Curve ratio vs. u\n",
    "# This checks for sensitivity of the phase curve to emission angle to see if\n",
    "# the simple mu adjustment is good enough\n",
    "mucoeff = np.polyfit(mindata['Mu'], mindata['Phase Curve Ratio'], 1)\n",
    "murange = np.arange(mindata['Mu'].min(), mindata['Mu'].max(), .001)\n",
    "mufit = np.polyval(mucoeff, murange)\n",
    "plt.scatter(mindata['Mu'], mindata['Phase Curve Ratio'], c=mindata['Mean Phase'])\n",
    "plt.plot(murange, mufit, '-')\n",
    "plt.xlabel('$\\mu=|\\cos(e)|$')\n",
    "plt.ylabel('Normal EW / Min Phase Model')\n",
    "_=plt.title('NEW/Phase Model (Min Slices) - Min Phase Curve')"
   ]
  },
  {
   "cell_type": "code",
   "execution_count": null,
   "id": "620b68a6",
   "metadata": {},
   "outputs": [],
   "source": [
    "# Plot minimum-slices-only NEW/Phase Curve ratio vs. u0\n",
    "# This checks for sensitivity of the phase curve to emission angle to see if\n",
    "# the simple mu adjustment is good enough\n",
    "mucoeff = np.polyfit(mindata['Mu0'], mindata['Phase Curve Ratio'], 1)\n",
    "murange = np.arange(mindata['Mu0'].min(), mindata['Mu0'].max(), .001)\n",
    "mufit = np.polyval(mucoeff, murange)\n",
    "plt.scatter(mindata['Mu0'], mindata['Phase Curve Ratio'], c=mindata['Mean Phase'])\n",
    "plt.plot(murange, mufit, '-')\n",
    "plt.xlabel('$\\mu_0=|\\cos(i)|$')\n",
    "plt.ylabel('Normal EW / Min Phase Model')\n",
    "_=plt.title('NEW/Phase Model (Min Slices) - Min Phase Curve')"
   ]
  },
  {
   "cell_type": "markdown",
   "id": "0d62d197",
   "metadata": {},
   "source": [
    "# Phase Curve with Maximum Slices Only"
   ]
  },
  {
   "cell_type": "code",
   "execution_count": null,
   "id": "43df3079",
   "metadata": {},
   "outputs": [],
   "source": [
    "max_slice_params, max_slice_used_data, max_slice_std = fit_hg_phase_function(2, None, maxdata)\n",
    "print('Final max-slice params')\n",
    "print_hg_params(max_slice_params)\n",
    "maxdata['Phase Model'] = hg_func(max_slice_params, np.radians(maxdata['Mean Phase']))\n",
    "\n",
    "# Plot the individual slice data points\n",
    "plt.plot(maxdata['Mean Phase'], maxdata['Normal EW'], '.', color='black', alpha=0.3, \n",
    "         label='Max Slice Data')\n",
    "\n",
    "# Plot the phase model sampled at 1-degree intervals\n",
    "xrange = np.arange(obsdata['Mean Phase'].min(), obsdata['Mean Phase'].max()+1)\n",
    "max_slice_phase_model = hg_func(max_slice_params, np.radians(xrange))\n",
    "plt.plot(xrange, max_slice_phase_model, '-', color='green', lw=5, label='Max Phase model')\n",
    "plt.yscale('log')\n",
    "plt.legend()\n",
    "plt.xlabel('Phase Angle (°)')\n",
    "plt.ylabel('Normal EW')\n",
    "_=plt.title('Phase Curve Model (Max Slices)')"
   ]
  },
  {
   "cell_type": "code",
   "execution_count": null,
   "id": "719ef9a2",
   "metadata": {},
   "outputs": [],
   "source": [
    "plt.plot(max_slice_used_data['Mean Phase'], max_slice_used_data['Normal EW'], \n",
    "         '.', color='black', alpha=0.3, label='Used Max Slice Data')\n",
    "# plt.plot(xrange, all_slice_phase_model, '-', color='green', lw=5, label='Full Phase model')\n",
    "plt.plot(xrange, max_slice_phase_model, '-', color='green', lw=5, label='Max Phase model')\n",
    "plt.yscale('log')\n",
    "plt.legend()\n",
    "plt.xlabel('Phase Angle (°)')\n",
    "plt.ylabel('Normal EW')\n",
    "_=plt.title('Phase Curve Model (Max Slices, Used Data Points)')\n",
    "print('** Statistics - ratio of full phase curve / max phase curve')\n",
    "ratio = all_slice_phase_model / max_slice_phase_model\n",
    "print('Ratio min:', ratio.min())\n",
    "print('Ratio max:', ratio.max())\n",
    "print('Ratio mean:', ratio.mean())\n",
    "print('Ratio median:', np.median(ratio))"
   ]
  },
  {
   "cell_type": "code",
   "execution_count": null,
   "id": "9b5b851e",
   "metadata": {
    "scrolled": true
   },
   "outputs": [],
   "source": [
    "maxdata['Phase Curve Ratio'] = maxdata['Normal EW'] / maxdata['Phase Model']\n",
    "timecoeff = np.polyfit(maxdata['Date_secs'], maxdata['Phase Curve Ratio'], 1)\n",
    "plt.scatter(maxdata['Date'], maxdata['Phase Curve Ratio'], c=maxdata['Mean Phase'])\n",
    "timerange = np.arange(maxdata['Date_secs'].min(), maxdata['Date_secs'].max(), 100)\n",
    "timefit = np.polyval(timecoeff, timerange)\n",
    "plt.plot(timerange, timefit, '-')\n",
    "plt.xlabel('Date of Observation')\n",
    "plt.ylabel('Normal EW / Max Phase Model')\n",
    "_=plt.title('NEW/Phase Model (Max Slices) - Max Phase Curve')"
   ]
  },
  {
   "cell_type": "code",
   "execution_count": null,
   "id": "117f6517",
   "metadata": {
    "scrolled": true
   },
   "outputs": [],
   "source": [
    "# Plot maximum-slices-only NEW/Phase Curve ratio vs. u\n",
    "# This checks for sensitivity of the phase curve to emission angle to see if\n",
    "# the simple mu adjustment is good enough\n",
    "mucoeff = np.polyfit(maxdata['Mu'], maxdata['Phase Curve Ratio'], 1)\n",
    "murange = np.arange(maxdata['Mu'].min(), maxdata['Mu'].max(), .001)\n",
    "mufit = np.polyval(mucoeff, murange)\n",
    "plt.scatter(maxdata['Mu'], maxdata['Phase Curve Ratio'], c=maxdata['Mean Phase'])\n",
    "plt.plot(murange, mufit, '-')\n",
    "plt.xlabel('$\\mu=|\\cos(e)|$')\n",
    "plt.ylabel('Normal EW / Max Phase Model')\n",
    "_=plt.title('NEW/Phase Model (Max Slices) - Max Phase Curve')"
   ]
  },
  {
   "cell_type": "code",
   "execution_count": null,
   "id": "21fc647f",
   "metadata": {},
   "outputs": [],
   "source": [
    "# Plot maximum-slices-only NEW/Phase Curve ratio vs. u0\n",
    "# This checks for sensitivity of the phase curve to emission angle to see if\n",
    "# the simple mu adjustment is good enough\n",
    "mucoeff = np.polyfit(maxdata['Mu0'], maxdata['Phase Curve Ratio'], 1)\n",
    "murange = np.arange(maxdata['Mu0'].min(), maxdata['Mu0'].max(), .001)\n",
    "mufit = np.polyval(mucoeff, murange)\n",
    "plt.scatter(maxdata['Mu0'], maxdata['Phase Curve Ratio'], c=maxdata['Mean Phase'])\n",
    "plt.plot(murange, mufit, '-')\n",
    "plt.xlabel('$\\mu_0=|\\cos(i)|$')\n",
    "plt.ylabel('Normal EW / Max Phase Model')\n",
    "_=plt.title('NEW/Phase Model (Max Slices) - Max Phase Curve')"
   ]
  },
  {
   "cell_type": "markdown",
   "id": "3ef90978",
   "metadata": {},
   "source": [
    "# Min vs Max Comparison"
   ]
  },
  {
   "cell_type": "code",
   "execution_count": null,
   "id": "3e4fd9d6",
   "metadata": {},
   "outputs": [],
   "source": [
    "ratio_all_min = np.mean(all_slice_phase_model / min_slice_phase_model)\n",
    "ratio_all_max = np.mean(all_slice_phase_model / max_slice_phase_model)\n",
    "plt.plot(xrange, all_slice_phase_model, '-', color='black', lw=5, label='All Phase model')\n",
    "plt.plot(xrange, min_slice_phase_model*ratio_all_min,\n",
    "         '-', color='green', lw=3, label='Min Phase model')\n",
    "plt.plot(xrange, max_slice_phase_model*ratio_all_max,\n",
    "         '-', color='red', lw=3, label='Max Phase model')\n",
    "plt.yscale('log')\n",
    "plt.legend()\n",
    "plt.xlabel('Phase Angle (°)')\n",
    "plt.ylabel('Normal EW')\n",
    "_=plt.title('Phase Curve Model Comparison')\n"
   ]
  },
  {
   "cell_type": "markdown",
   "id": "64263e0e",
   "metadata": {},
   "source": [
    "# Using Tau - Phase Curve with All Slices"
   ]
  },
  {
   "cell_type": "code",
   "execution_count": null,
   "id": "dae3d3f3",
   "metadata": {
    "scrolled": false
   },
   "outputs": [],
   "source": [
    "good_i = np.abs(obsdata['Incidence']-90) > 0.5\n",
    "good_obsdata = obsdata[good_i].copy()\n",
    "best_std = 1e38\n",
    "best_tau = None\n",
    "best_all_slice_params_tau = None\n",
    "for tau in [None]+list(np.arange(0.008, 0.011, 0.001)):\n",
    "    all_slice_params_tau, all_slice_used_data_tau, all_slice_std_tau = \\\n",
    "        fit_hg_phase_function(2, None, good_obsdata, tau=tau, verbose=False)\n",
    "    if all_slice_std_tau < best_std:\n",
    "        best_all_slice_params_tau = all_slice_params_tau\n",
    "        best_std = all_slice_std_tau\n",
    "        best_tau = tau\n",
    "    if tau is None:\n",
    "        print(f'Tau = None: {all_slice_std_tau:.5f}')\n",
    "    else:\n",
    "        print(f'Tau = {tau:.3f}: {all_slice_std_tau:.5f}')\n",
    "    print_hg_params(all_slice_params_tau)\n",
    "print('Best Tau:', best_tau)\n",
    "good_obsdata['Phase Model Tau'] = hg_func(best_all_slice_params_tau, \n",
    "                                          np.radians(good_obsdata['Mean Phase']))\n",
    "\n",
    "### Plot original data\n",
    "\n",
    "# Plot the individual slice data points\n",
    "plt.plot(obsdata['Mean Phase'], obsdata['Normal EW'], '.', color='black', alpha=0.3, \n",
    "         label='All Slice Data')\n",
    "\n",
    "# Plot the phase model sampled at 1-degree intervals\n",
    "xrange = np.arange(obsdata['Mean Phase'].min(), obsdata['Mean Phase'].max()+1)\n",
    "all_slice_phase_model = hg_func(all_slice_params, np.radians(xrange))\n",
    "plt.plot(xrange, all_slice_phase_model, '-', color='green', lw=5, label='Phase model')\n",
    "plt.yscale('log')\n",
    "plt.legend()\n",
    "plt.xlabel('Phase Angle (°)')\n",
    "plt.ylabel('Normal EW')\n",
    "_=plt.title('All-Slice Phase Curve Model & All Data Points')\n",
    "plt.show()\n",
    "\n",
    "### Plot tau-corrected original data (non-eqx)\n",
    "\n",
    "# Plot the individual slice data points\n",
    "corrected_ew = compute_corrected_ew(good_obsdata['Normal EW'], \n",
    "                                    good_obsdata['Mean Emission'], \n",
    "                                    good_obsdata['Incidence'], \n",
    "                                    tau=best_tau)\n",
    "plt.plot(good_obsdata['Mean Phase'], corrected_ew, '.', \n",
    "         color='black', alpha=0.3, label='Non-EQX Slice Data')\n",
    "\n",
    "# Plot the phase model sampled at 1-degree intervals\n",
    "xrange_tau = np.arange(good_obsdata['Mean Phase'].min(), good_obsdata['Mean Phase'].max()+1)\n",
    "all_slice_phase_model_tau = hg_func(best_all_slice_params_tau, np.radians(xrange_tau))\n",
    "plt.plot(xrange, all_slice_phase_model, '-', color='green', lw=2, label='Non-Tau Phase model')\n",
    "plt.plot(xrange_tau, all_slice_phase_model_tau, '-', color='red', lw=2, label='Tau Phase model')\n",
    "plt.yscale('log')\n",
    "plt.legend()\n",
    "plt.xlabel('Phase Angle (°)')\n",
    "plt.ylabel('Normal EW')\n",
    "_=plt.title(f'All-Slice Phase Curve Model & Non-QEX Data Points (tau={tau:.3f})')"
   ]
  },
  {
   "cell_type": "markdown",
   "id": "18b05aef",
   "metadata": {},
   "source": [
    "# Using Tau - Phase Curve with Min Slices"
   ]
  },
  {
   "cell_type": "code",
   "execution_count": null,
   "id": "b6aaf372",
   "metadata": {
    "scrolled": false
   },
   "outputs": [],
   "source": [
    "good_i = np.abs(mindata['Incidence']-90) > 0.5\n",
    "good_mindata = mindata[good_i].copy()\n",
    "best_std = 1e38\n",
    "best_tau = None\n",
    "for tau in [None]+list(np.arange(0.001, 0.015, 0.001)):\n",
    "    min_slice_params_tau, min_slice_used_data_tau, min_slice_std_tau = \\\n",
    "        fit_hg_phase_function(2, None, good_mindata, tau=tau, verbose=False)\n",
    "    if min_slice_std_tau < best_std:\n",
    "        best_std = min_slice_std_tau\n",
    "        best_tau = tau\n",
    "    if tau is None:\n",
    "        print(f'Tau = None: {min_slice_std_tau:.5f}')\n",
    "    else:\n",
    "        print(f'Tau = {tau:.3f}: {min_slice_std_tau:.5f}')\n",
    "    print_hg_params(min_slice_params_tau)\n",
    "print('Best Tau:', best_tau)\n",
    "good_mindata['Phase Model Tau'] = hg_func(min_slice_params_tau, np.radians(good_mindata['Mean Phase']))"
   ]
  },
  {
   "cell_type": "code",
   "execution_count": null,
   "id": "00cbe483",
   "metadata": {},
   "outputs": [],
   "source": []
  },
  {
   "cell_type": "markdown",
   "id": "4c8c7a46",
   "metadata": {},
   "source": [
    "# Using Tau - Phase Curve with Max Slices"
   ]
  },
  {
   "cell_type": "code",
   "execution_count": null,
   "id": "254fe010",
   "metadata": {},
   "outputs": [],
   "source": [
    "good_i = np.abs(maxdata['Incidence']-90) > 0.5\n",
    "good_maxdata = maxdata[good_i]\n",
    "best_std = 1e38\n",
    "best_tau = None\n",
    "for tau in [None]+list(np.arange(0.001, 0.015, 0.001)):\n",
    "    max_slice_params_tau, max_slice_used_data_tau, max_slice_std_tau = \\\n",
    "        fit_hg_phase_function(2, None, good_maxdata, tau=tau, verbose=False)\n",
    "    if max_slice_std_tau < best_std:\n",
    "        best_std = max_slice_std_tau\n",
    "        best_tau = tau\n",
    "    if tau is None:\n",
    "        print(f'Tau = None: {max_slice_std_tau:.5f}')\n",
    "    else:\n",
    "        print(f'Tau = {tau:.3f}: {max_slice_std_tau:.5f}')\n",
    "    print_hg_params(max_slice_params_tau)\n",
    "print('Best Tau:', best_tau)\n",
    "good_maxdata['Phase Model Tau'] = hg_func(max_slice_params_tau, np.radians(good_maxdata['Mean Phase']))"
   ]
  },
  {
   "cell_type": "code",
   "execution_count": null,
   "id": "a0d82110",
   "metadata": {},
   "outputs": [],
   "source": []
  }
 ],
 "metadata": {
  "kernelspec": {
   "display_name": "Python 3 (ipykernel)",
   "language": "python",
   "name": "python3"
  },
  "language_info": {
   "codemirror_mode": {
    "name": "ipython",
    "version": 3
   },
   "file_extension": ".py",
   "mimetype": "text/x-python",
   "name": "python",
   "nbconvert_exporter": "python",
   "pygments_lexer": "ipython3",
   "version": "3.8.10"
  }
 },
 "nbformat": 4,
 "nbformat_minor": 5
}
