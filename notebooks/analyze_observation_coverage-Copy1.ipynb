{
 "cells": [
  {
   "cell_type": "code",
   "execution_count": 4,
   "id": "a71cb81f",
   "metadata": {},
   "outputs": [],
   "source": [
    "from jupyter_dash import JupyterDash\n",
    "from dash import Dash, dcc, html\n",
    "import plotly.express as px\n",
    "import matplotlib.pyplot as plt\n",
    "import numpy as np\n",
    "import pandas as pd\n",
    "JupyterDash.infer_jupyter_proxy_config()\n",
    "pd.options.plotting.backend = \"plotly\"\n",
    "app = JupyterDash(__name__)"
   ]
  },
  {
   "cell_type": "code",
   "execution_count": 7,
   "id": "f74ea5fc",
   "metadata": {},
   "outputs": [
    {
     "name": "stdout",
     "output_type": "stream",
     "text": [
      "** SUMMARY STATISTICS **\n",
      "Unique observation names: 151\n",
      "Total 1-degree slices: 36864\n",
      "Starting date: 2004-06-20 20:03:28\n",
      "Ending date: 2017-09-07 02:15:23\n",
      "Time span: 4826 days 06:11:55\n"
     ]
    }
   ],
   "source": [
    "obsdata = pd.read_csv('../data_files/good_qual_1deg.csv', parse_dates=['Date'])\n",
    "print('** SUMMARY STATISTICS **')\n",
    "print('Unique observation names:', len(obsdata.groupby('Observation')))\n",
    "print('Total 1-degree slices:', len(obsdata))\n",
    "print('Starting date:', obsdata['Date'].min())\n",
    "print('Ending date:', obsdata['Date'].max())\n",
    "print('Time span:', obsdata['Date'].max()-obsdata['Date'].min())\n",
    "obsdata['Mu'] = np.abs(np.cos(np.radians(obsdata['Mean Emission'])))\n",
    "obsdata['Mu0'] = np.abs(np.cos(np.radians(obsdata['Incidence'])))\n"
   ]
  },
  {
   "cell_type": "code",
   "execution_count": 8,
   "id": "9ece377a",
   "metadata": {
    "scrolled": true
   },
   "outputs": [
    {
     "name": "stderr",
     "output_type": "stream",
     "text": [
      "----------------------------------------\n",
      "Exception happened during processing of request from ('127.0.0.1', 58346)\n",
      "Traceback (most recent call last):\n",
      "  File \"/seti/src/f-ring/venv/lib/python3.8/site-packages/flask/app.py\", line 1820, in full_dispatch_request\n",
      "  File \"/seti/src/f-ring/venv/lib/python3.8/site-packages/flask/app.py\", line 1796, in dispatch_request\n",
      "  File \"/seti/src/f-ring/venv/lib/python3.8/site-packages/dash/dash.py\", line 937, in index\n",
      "  File \"/seti/src/f-ring/venv/lib/python3.8/site-packages/dash/dash.py\", line 795, in _generate_scripts_html\n",
      "  File \"/seti/src/f-ring/venv/lib/python3.8/site-packages/dash/dash.py\", line 741, in _collect_and_register_resources\n",
      "  File \"/seti/src/f-ring/venv/lib/python3.8/site-packages/dash/dash.py\", line 720, in _relative_url_path\n",
      "FileNotFoundError: [Errno 2] No such file or directory: '/seti/src/f-ring/venv/lib/python3.8/site-packages/dash/deps/polyfill@7.12.1.min.js'\n",
      "\n",
      "During handling of the above exception, another exception occurred:\n",
      "\n",
      "Traceback (most recent call last):\n",
      "  File \"/seti/src/f-ring/venv/lib/python3.8/site-packages/pygments/styles/__init__.py\", line 78, in get_style_by_name\n",
      "ModuleNotFoundError: No module named 'pygments.styles.default'\n",
      "\n",
      "During handling of the above exception, another exception occurred:\n",
      "\n",
      "Traceback (most recent call last):\n",
      "  File \"/seti/src/f-ring/venv/lib/python3.8/site-packages/flask/app.py\", line 2525, in wsgi_app\n",
      "  File \"/seti/src/f-ring/venv/lib/python3.8/site-packages/flask/app.py\", line 1822, in full_dispatch_request\n",
      "  File \"/seti/src/f-ring/venv/lib/python3.8/site-packages/flask/app.py\", line 1673, in handle_user_exception\n",
      "  File \"/seti/src/f-ring/venv/lib/python3.8/site-packages/jupyter_dash/jupyter_app.py\", line 398, in _wrap_errors\n",
      "  File \"/seti/src/f-ring/venv/lib/python3.8/site-packages/IPython/core/ultratb.py\", line 960, in __call__\n",
      "  File \"/seti/src/f-ring/venv/lib/python3.8/site-packages/IPython/core/ultratb.py\", line 951, in handler\n",
      "  File \"/seti/src/f-ring/venv/lib/python3.8/site-packages/IPython/core/ultratb.py\", line 329, in text\n",
      "  File \"/seti/src/f-ring/venv/lib/python3.8/site-packages/IPython/core/ultratb.py\", line 1012, in structured_traceback\n",
      "  File \"/seti/src/f-ring/venv/lib/python3.8/site-packages/IPython/core/ultratb.py\", line 865, in structured_traceback\n",
      "  File \"/seti/src/f-ring/venv/lib/python3.8/site-packages/IPython/core/ultratb.py\", line 799, in format_exception_as_a_whole\n",
      "  File \"/seti/src/f-ring/venv/lib/python3.8/site-packages/IPython/core/ultratb.py\", line 844, in get_records\n",
      "  File \"/seti/src/f-ring/venv/lib/python3.8/site-packages/pygments/styles/__init__.py\", line 80, in get_style_by_name\n",
      "pygments.util.ClassNotFound: Could not find style module 'default', though it should be builtin.\n",
      "\n",
      "During handling of the above exception, another exception occurred:\n",
      "\n",
      "Traceback (most recent call last):\n",
      "  File \"/seti/src/f-ring/venv/lib/python3.8/site-packages/pygments/styles/__init__.py\", line 78, in get_style_by_name\n",
      "ModuleNotFoundError: No module named 'pygments.styles.default'\n",
      "\n",
      "During handling of the above exception, another exception occurred:\n",
      "\n",
      "Traceback (most recent call last):\n",
      "  File \"/seti/src/f-ring/venv/lib/python3.8/site-packages/werkzeug/serving.py\", line 335, in run_wsgi\n",
      "  File \"/seti/src/f-ring/venv/lib/python3.8/site-packages/werkzeug/serving.py\", line 322, in execute\n",
      "  File \"/seti/src/f-ring/venv/lib/python3.8/site-packages/flask/app.py\", line 2548, in __call__\n",
      "  File \"/seti/src/f-ring/venv/lib/python3.8/site-packages/flask/app.py\", line 2528, in wsgi_app\n",
      "  File \"/seti/src/f-ring/venv/lib/python3.8/site-packages/flask/app.py\", line 1724, in handle_exception\n",
      "  File \"/seti/src/f-ring/venv/lib/python3.8/site-packages/jupyter_dash/jupyter_app.py\", line 398, in _wrap_errors\n",
      "  File \"/seti/src/f-ring/venv/lib/python3.8/site-packages/IPython/core/ultratb.py\", line 960, in __call__\n",
      "  File \"/seti/src/f-ring/venv/lib/python3.8/site-packages/IPython/core/ultratb.py\", line 951, in handler\n",
      "  File \"/seti/src/f-ring/venv/lib/python3.8/site-packages/IPython/core/ultratb.py\", line 329, in text\n",
      "  File \"/seti/src/f-ring/venv/lib/python3.8/site-packages/IPython/core/ultratb.py\", line 1012, in structured_traceback\n",
      "  File \"/seti/src/f-ring/venv/lib/python3.8/site-packages/IPython/core/ultratb.py\", line 865, in structured_traceback\n",
      "  File \"/seti/src/f-ring/venv/lib/python3.8/site-packages/IPython/core/ultratb.py\", line 799, in format_exception_as_a_whole\n",
      "  File \"/seti/src/f-ring/venv/lib/python3.8/site-packages/IPython/core/ultratb.py\", line 844, in get_records\n",
      "  File \"/seti/src/f-ring/venv/lib/python3.8/site-packages/pygments/styles/__init__.py\", line 80, in get_style_by_name\n",
      "pygments.util.ClassNotFound: Could not find style module 'default', though it should be builtin.\n",
      "\n",
      "During handling of the above exception, another exception occurred:\n",
      "\n",
      "Traceback (most recent call last):\n",
      "  File \"/usr/lib/python3.8/socketserver.py\", line 683, in process_request_thread\n",
      "    self.finish_request(request, client_address)\n",
      "  File \"/usr/lib/python3.8/socketserver.py\", line 360, in finish_request\n",
      "    self.RequestHandlerClass(request, client_address, self)\n",
      "  File \"/usr/lib/python3.8/socketserver.py\", line 747, in __init__\n",
      "    self.handle()\n",
      "  File \"/seti/src/f-ring/venv/lib/python3.8/site-packages/werkzeug/serving.py\", line 363, in handle\n",
      "  File \"/usr/lib/python3.8/http/server.py\", line 427, in handle\n",
      "    self.handle_one_request()\n",
      "  File \"/usr/lib/python3.8/http/server.py\", line 415, in handle_one_request\n",
      "    method()\n",
      "  File \"/seti/src/f-ring/venv/lib/python3.8/site-packages/werkzeug/serving.py\", line 355, in run_wsgi\n",
      "ModuleNotFoundError: No module named 'werkzeug.debug'\n",
      "----------------------------------------\n",
      "----------------------------------------\n",
      "Exception happened during processing of request from ('127.0.0.1', 58354)\n",
      "Traceback (most recent call last):\n",
      "  File \"/seti/src/f-ring/venv/lib/python3.8/site-packages/flask/app.py\", line 1820, in full_dispatch_request\n",
      "  File \"/seti/src/f-ring/venv/lib/python3.8/site-packages/flask/app.py\", line 1796, in dispatch_request\n",
      "  File \"/seti/src/f-ring/venv/lib/python3.8/site-packages/dash/dash.py\", line 937, in index\n",
      "  File \"/seti/src/f-ring/venv/lib/python3.8/site-packages/dash/dash.py\", line 795, in _generate_scripts_html\n",
      "  File \"/seti/src/f-ring/venv/lib/python3.8/site-packages/dash/dash.py\", line 741, in _collect_and_register_resources\n",
      "  File \"/seti/src/f-ring/venv/lib/python3.8/site-packages/dash/dash.py\", line 720, in _relative_url_path\n",
      "FileNotFoundError: [Errno 2] No such file or directory: '/seti/src/f-ring/venv/lib/python3.8/site-packages/dash/deps/polyfill@7.12.1.min.js'\n",
      "\n",
      "During handling of the above exception, another exception occurred:\n",
      "\n",
      "Traceback (most recent call last):\n",
      "  File \"/seti/src/f-ring/venv/lib/python3.8/site-packages/pygments/styles/__init__.py\", line 78, in get_style_by_name\n",
      "ModuleNotFoundError: No module named 'pygments.styles.default'\n",
      "\n",
      "During handling of the above exception, another exception occurred:\n",
      "\n",
      "Traceback (most recent call last):\n",
      "  File \"/seti/src/f-ring/venv/lib/python3.8/site-packages/flask/app.py\", line 2525, in wsgi_app\n",
      "  File \"/seti/src/f-ring/venv/lib/python3.8/site-packages/flask/app.py\", line 1822, in full_dispatch_request\n",
      "  File \"/seti/src/f-ring/venv/lib/python3.8/site-packages/flask/app.py\", line 1673, in handle_user_exception\n",
      "  File \"/seti/src/f-ring/venv/lib/python3.8/site-packages/jupyter_dash/jupyter_app.py\", line 398, in _wrap_errors\n",
      "  File \"/seti/src/f-ring/venv/lib/python3.8/site-packages/IPython/core/ultratb.py\", line 960, in __call__\n",
      "  File \"/seti/src/f-ring/venv/lib/python3.8/site-packages/IPython/core/ultratb.py\", line 951, in handler\n",
      "  File \"/seti/src/f-ring/venv/lib/python3.8/site-packages/IPython/core/ultratb.py\", line 329, in text\n",
      "  File \"/seti/src/f-ring/venv/lib/python3.8/site-packages/IPython/core/ultratb.py\", line 1012, in structured_traceback\n",
      "  File \"/seti/src/f-ring/venv/lib/python3.8/site-packages/IPython/core/ultratb.py\", line 865, in structured_traceback\n",
      "  File \"/seti/src/f-ring/venv/lib/python3.8/site-packages/IPython/core/ultratb.py\", line 799, in format_exception_as_a_whole\n",
      "  File \"/seti/src/f-ring/venv/lib/python3.8/site-packages/IPython/core/ultratb.py\", line 844, in get_records\n",
      "  File \"/seti/src/f-ring/venv/lib/python3.8/site-packages/pygments/styles/__init__.py\", line 80, in get_style_by_name\n",
      "pygments.util.ClassNotFound: Could not find style module 'default', though it should be builtin.\n",
      "\n",
      "During handling of the above exception, another exception occurred:\n",
      "\n",
      "Traceback (most recent call last):\n",
      "  File \"/seti/src/f-ring/venv/lib/python3.8/site-packages/pygments/styles/__init__.py\", line 78, in get_style_by_name\n",
      "ModuleNotFoundError: No module named 'pygments.styles.default'\n",
      "\n",
      "During handling of the above exception, another exception occurred:\n",
      "\n",
      "Traceback (most recent call last):\n",
      "  File \"/seti/src/f-ring/venv/lib/python3.8/site-packages/werkzeug/serving.py\", line 335, in run_wsgi\n",
      "  File \"/seti/src/f-ring/venv/lib/python3.8/site-packages/werkzeug/serving.py\", line 322, in execute\n",
      "  File \"/seti/src/f-ring/venv/lib/python3.8/site-packages/flask/app.py\", line 2548, in __call__\n",
      "  File \"/seti/src/f-ring/venv/lib/python3.8/site-packages/flask/app.py\", line 2528, in wsgi_app\n",
      "  File \"/seti/src/f-ring/venv/lib/python3.8/site-packages/flask/app.py\", line 1724, in handle_exception\n",
      "  File \"/seti/src/f-ring/venv/lib/python3.8/site-packages/jupyter_dash/jupyter_app.py\", line 398, in _wrap_errors\n",
      "  File \"/seti/src/f-ring/venv/lib/python3.8/site-packages/IPython/core/ultratb.py\", line 960, in __call__\n",
      "  File \"/seti/src/f-ring/venv/lib/python3.8/site-packages/IPython/core/ultratb.py\", line 951, in handler\n",
      "  File \"/seti/src/f-ring/venv/lib/python3.8/site-packages/IPython/core/ultratb.py\", line 329, in text\n",
      "  File \"/seti/src/f-ring/venv/lib/python3.8/site-packages/IPython/core/ultratb.py\", line 1012, in structured_traceback\n",
      "  File \"/seti/src/f-ring/venv/lib/python3.8/site-packages/IPython/core/ultratb.py\", line 865, in structured_traceback\n",
      "  File \"/seti/src/f-ring/venv/lib/python3.8/site-packages/IPython/core/ultratb.py\", line 799, in format_exception_as_a_whole\n",
      "  File \"/seti/src/f-ring/venv/lib/python3.8/site-packages/IPython/core/ultratb.py\", line 844, in get_records\n",
      "  File \"/seti/src/f-ring/venv/lib/python3.8/site-packages/pygments/styles/__init__.py\", line 80, in get_style_by_name\n",
      "pygments.util.ClassNotFound: Could not find style module 'default', though it should be builtin.\n",
      "\n",
      "During handling of the above exception, another exception occurred:\n",
      "\n",
      "Traceback (most recent call last):\n",
      "  File \"/usr/lib/python3.8/socketserver.py\", line 683, in process_request_thread\n",
      "    self.finish_request(request, client_address)\n",
      "  File \"/usr/lib/python3.8/socketserver.py\", line 360, in finish_request\n",
      "    self.RequestHandlerClass(request, client_address, self)\n",
      "  File \"/usr/lib/python3.8/socketserver.py\", line 747, in __init__\n",
      "    self.handle()\n",
      "  File \"/seti/src/f-ring/venv/lib/python3.8/site-packages/werkzeug/serving.py\", line 363, in handle\n",
      "  File \"/usr/lib/python3.8/http/server.py\", line 427, in handle\n",
      "    self.handle_one_request()\n",
      "  File \"/usr/lib/python3.8/http/server.py\", line 415, in handle_one_request\n",
      "    method()\n",
      "  File \"/seti/src/f-ring/venv/lib/python3.8/site-packages/werkzeug/serving.py\", line 355, in run_wsgi\n",
      "ModuleNotFoundError: No module named 'werkzeug.debug'\n",
      "----------------------------------------\n"
     ]
    }
   ],
   "source": [
    "\n",
    "fig1 = px.scatter(obsdata, x=\"Mu\", y=\"Mean Phase\",\n",
    "                 hover_name=\"Observation\",\n",
    "                 size_max=60)\n",
    "fig2 = px.scatter(obsdata, x=\"Mu0\", y=\"Mean Phase\",\n",
    "                 hover_name=\"Observation\", hover_data=[\"Date\"],\n",
    "                 size_max=60)\n",
    "fig3 = px.scatter(obsdata, x=\"Mu\", y=\"Mean Phase\",\n",
    "                 hover_name=\"Observation\", hover_data=[\"Date\"],\n",
    "                 size_max=60)\n",
    "app.layout = html.Div([\n",
    "    html.Div(children=[\n",
    "        dcc.Graph(\n",
    "            id='Mu-vs-Phase1',\n",
    "            figure=fig1\n",
    "        )\n",
    "    ], style={'display': 'inline-block', 'width': '33%'}),\n",
    "\n",
    "    html.Div(children=[\n",
    "        dcc.Graph(\n",
    "            id='Mu-vs-Phase2',\n",
    "            figure=fig2\n",
    "        )\n",
    "    ], style={'display': 'inline-block', 'width': '33%'}),\n",
    "    \n",
    "    html.Div(children=[\n",
    "        dcc.Graph(\n",
    "            id='Mu-vs-Phase3',\n",
    "            figure=fig3\n",
    "        )\n",
    "    ], style={'display': 'inline-block', 'width': '33%'})\n",
    "\n",
    "])\n",
    "#app.run_server()"
   ]
  },
  {
   "cell_type": "code",
   "execution_count": null,
   "id": "1a3a744e",
   "metadata": {
    "scrolled": true
   },
   "outputs": [],
   "source": [
    "plt.plot(obsdata['Mean Emission'], obsdata['Mean Phase'], '.')\n",
    "plt.xlabel('$e$ (°)')\n",
    "plt.ylabel('Phase Angle (°)')\n",
    "_=plt.title('Coverage: Phase Angle vs. $e$')"
   ]
  },
  {
   "cell_type": "code",
   "execution_count": null,
   "id": "99d2b43d",
   "metadata": {},
   "outputs": [],
   "source": [
    "plt.plot(np.abs(np.cos(np.radians(obsdata['Incidence']))), obsdata['Mean Phase'], '.')\n",
    "plt.xlabel('$\\mu_0=|\\cos(i)|$')\n",
    "plt.ylabel('Phase Angle (°)')\n",
    "_=plt.title('Coverage: Phase Angle vs. $\\mu_0$')"
   ]
  },
  {
   "cell_type": "code",
   "execution_count": null,
   "id": "07d7011a",
   "metadata": {},
   "outputs": [],
   "source": [
    "plt.plot(np.abs(np.cos(np.radians(obsdata['Incidence']))), np.abs(np.cos(np.radians(obsdata['Mean Emission']))), '.')\n",
    "plt.xlabel('$\\mu_0=|\\cos(i)|$')\n",
    "plt.ylabel('$\\mu=|\\cos(e)|$')\n",
    "_=plt.title('Coverage: $\\mu$ vs. $\\mu_0$')"
   ]
  },
  {
   "cell_type": "code",
   "execution_count": null,
   "id": "46cb5d50",
   "metadata": {},
   "outputs": [],
   "source": [
    "plt.plot(obsdata['Date'], obsdata['Mean Phase'], '.')\n",
    "plt.xlabel('Date of Observation')\n",
    "plt.ylabel('Phase Angle (°)')\n",
    "_=plt.title('Coverage: Phase Angle vs. Date')"
   ]
  },
  {
   "cell_type": "code",
   "execution_count": null,
   "id": "fe4d934e",
   "metadata": {
    "scrolled": false
   },
   "outputs": [],
   "source": [
    "plt.plot(obsdata['Date'], np.abs(np.cos(np.radians(obsdata['Mean Emission']))),  '.')\n",
    "plt.xlabel('Date of Observation')\n",
    "plt.ylabel('$\\mu=|\\cos(e)|$')\n",
    "_=plt.title('Coverage: $\\mu$ vs. Date')"
   ]
  },
  {
   "cell_type": "code",
   "execution_count": null,
   "id": "2ef5da96",
   "metadata": {
    "scrolled": false
   },
   "outputs": [],
   "source": [
    "plt.plot(obsdata['Date'], obsdata['Mean Emission'],  '.')\n",
    "plt.xlabel('Date of Observation')\n",
    "plt.ylabel('$e$ (°)')\n",
    "_=plt.title('Coverage: $e$ vs. Date')"
   ]
  },
  {
   "cell_type": "code",
   "execution_count": null,
   "id": "41e81ce0",
   "metadata": {
    "scrolled": true
   },
   "outputs": [],
   "source": [
    "plt.plot(obsdata['Date'], np.abs(np.cos(np.radians(obsdata['Incidence']))), '.')\n",
    "plt.xlabel('Date of Observation')\n",
    "plt.ylabel('$\\mu_0=|\\cos(i)|$')\n",
    "_=plt.title('Coverage: $\\mu_0$ vs. Date')"
   ]
  },
  {
   "cell_type": "code",
   "execution_count": null,
   "id": "0da80295",
   "metadata": {
    "scrolled": true
   },
   "outputs": [],
   "source": [
    "plt.plot(obsdata['Date'], obsdata['Incidence'], '.')\n",
    "plt.xlabel('Date of Observation')\n",
    "plt.ylabel('$i$ (°)')\n",
    "_=plt.title('Coverage: $i$ vs. Date')"
   ]
  },
  {
   "cell_type": "code",
   "execution_count": null,
   "id": "03f2f822",
   "metadata": {},
   "outputs": [
    {
     "name": "stderr",
     "output_type": "stream",
     "text": [
      "/seti/src/f-ring/venv/lib/python3.8/site-packages/jupyter_dash/comms.py:100: RuntimeWarning: coroutine 'Kernel.execute_request' was never awaited\n",
      "  kernel.execute_request(stream, ident, parent)\n",
      "RuntimeWarning: Enable tracemalloc to get the object allocation traceback\n"
     ]
    }
   ],
   "source": [
    "plt.plot(obsdata['Date'], (obsdata['Min Long']+obsdata['Max Long'])/2, '.', ms=1)\n",
    "plt.xlabel('Date of Observation')\n",
    "plt.ylabel('Co-Rotating Longitude (°)')\n",
    "plt.ylim(0,360)\n",
    "_=plt.title('Coverage: Co-Rotating Longitude vs. Date')"
   ]
  }
 ],
 "metadata": {
  "kernelspec": {
   "display_name": "Python 3 (ipykernel)",
   "language": "python",
   "name": "python3"
  },
  "language_info": {
   "codemirror_mode": {
    "name": "ipython",
    "version": 3
   },
   "file_extension": ".py",
   "mimetype": "text/x-python",
   "name": "python",
   "nbconvert_exporter": "python",
   "pygments_lexer": "ipython3",
   "version": "3.8.10"
  }
 },
 "nbformat": 4,
 "nbformat_minor": 5
}
