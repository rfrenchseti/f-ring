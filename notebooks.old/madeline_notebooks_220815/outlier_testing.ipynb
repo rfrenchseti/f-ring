{
 "cells": [
  {
   "cell_type": "markdown",
   "id": "7284230e",
   "metadata": {},
   "source": [
    "# Outlier observation identification / testing"
   ]
  },
  {
   "cell_type": "code",
   "execution_count": 142,
   "id": "05dceaec",
   "metadata": {},
   "outputs": [],
   "source": [
    "import matplotlib.pyplot as plt\n",
    "import numpy as np\n",
    "import pandas as pd\n",
    "import sys\n",
    "if '..' not in sys.path: sys.path.append('..')\n",
    "from f_ring_util import (compute_corrected_ew, \n",
    "                         compute_corrected_ew_col,\n",
    "                         fit_hg_phase_function, \n",
    "                         hg_func,\n",
    "                         print_hg_params)\n",
    "import datetime as dt\n",
    "pd.set_option('display.max_rows', None)"
   ]
  },
  {
   "cell_type": "code",
   "execution_count": 143,
   "id": "ece69d4f",
   "metadata": {},
   "outputs": [],
   "source": [
    "# Define functions to process data\n",
    "\n",
    "def remove_eqx(orig_obsdata, eqx_cutoff):\n",
    "    #remove EQX observations\n",
    "    #orig_obsdata: original pandas dataframe\n",
    "    #returns: obsdata (EQX observations removed)\n",
    "    \n",
    "    good_i = np.abs(orig_obsdata['Incidence']-90) > eqx_cutoff\n",
    "    obsdata = orig_obsdata[good_i]\n",
    "    print('Removed EQX OBSIDs:', set(orig_obsdata[~good_i].groupby('Observation').indices))\n",
    "    print('Unique observation names:', len(obsdata))\n",
    "    print()\n",
    "    \n",
    "    return obsdata\n",
    "\n",
    "def remove_outliers(obsdata, outlier_obs):\n",
    "    #remove 3 outliers from ~phase 50-60 before fitting for tau\n",
    "    #(located by hand, removing from all 3 by observation name)\n",
    "    \n",
    "    for obsid in outlier_obs:\n",
    "        #drop row containing outlier ob\n",
    "        obsdata = obsdata[obsdata.index != obsid]\n",
    "            \n",
    "    print('Removed outlier OBSIDs:', outlier_obs)\n",
    "    print('Unique observation names:', len(obsdata))\n",
    "    print()\n",
    "    return obsdata\n",
    "\n",
    "def phase_curve(hg_used_data, low_ei_data, phase_col, uc_ew_col, ew_col):\n",
    "    \n",
    "    a=0.7\n",
    "    ms=20\n",
    "    \n",
    "    plt.figure(figsize=(10,3))\n",
    "\n",
    "    #plot the uncorrected points\n",
    "    plt.subplot(1, 2, 1)\n",
    "    plt.scatter(hg_used_data[phase_col], hg_used_data[uc_ew_col], c='midnightblue', alpha=a, s=ms)\n",
    "    plt.scatter(low_ei_data[phase_col], low_ei_data[uc_ew_col], c='red', alpha=a, s=ms)\n",
    "    plt.xlabel('Phase Angle (°)')\n",
    "    plt.ylabel('Normal EW')\n",
    "    plt.title('Normal EW vs. Phase Angle (uncorrected)')\n",
    "\n",
    "    #plot the corrected points + model\n",
    "    plt.subplot(1, 2, 2)\n",
    "    plt.scatter(hg_used_data[phase_col], hg_used_data[ew_col], c='midnightblue', alpha=a, s=ms)\n",
    "    plt.scatter(low_ei_data[phase_col], low_ei_data[ew_col], c='red', alpha=a, s=ms)\n",
    "    plt.xlabel('Phase Angle (°)')\n",
    "    plt.ylabel('Normal EW')\n",
    "    plt.title(f'Normal EW vs. Phase Angle (corrected)')\n",
    "    plt.show()"
   ]
  },
  {
   "cell_type": "code",
   "execution_count": 144,
   "id": "91cc56d9",
   "metadata": {},
   "outputs": [],
   "source": [
    "# Define variables\n",
    "\n",
    "# directory of dumped EW csv files\n",
    "dump_ew_dir = '/Users/mlessard/REU_2022/data/dump_ew_csv/'\n",
    "\n",
    "#use all 3 regions, 4 boundaries between the regions\n",
    "radii = ['139470', '140170', '140265', '140965']\n",
    "\n",
    "size = '0' #slice/step size of the csv file\n",
    "\n",
    "#degrees within 90 (incidence angle) to cut off/get rid of observations\n",
    "eqx_cutoff = 1.5\n",
    "\n",
    "#define nstd for the HG param method\n",
    "nstd = None\n",
    "\n",
    "#remove outliers? (applies to both low-phase and HG param method)\n",
    "rm_outliers = True\n",
    "\n",
    "#list outlier obsids \n",
    "outliers = ['ISS_091RF_FMOVIE003_PRIME', 'ISS_107RF_FMOVIE002_PRIME', 'ISS_189RF_FMOVIE001_PRIME'] #3 w/high EW for low-phase, corrected (~50-60)\n",
    "outliers = outliers + ['ISS_041RF_FMOVIE002_VIMS', 'ISS_108RF_FMOVIE001_PRIME', 'ISS_039RF_FMOVIE001_VIMS'] #105 outliers\n",
    "outliers = outliers + ['ISS_041RF_FMOVIE001_VIMS', 'ISS_043RF_FMOVIE001_VIMS', 'ISS_044RF_FMOVIE001_VIMS'] #85 outliers\n",
    "#\"spike\" outliers for 1-degree HG param phase curve:\n",
    "#outliers = outliers + ['ISS_036RF_FMOVIE001_VIMS']  #160 phase spike\n",
    "#outliers = outliers + ['ISS_196RF_FMOVIE006_PRIME'] #150 phase spike\n",
    "#outliers = outliers + ['ISS_039RF_FMOVIE002_VIMS']  #~130 phase spike\n",
    "#outliers = outliers + ['ISS_036RF_FMOVIE002_VIMS','ISS_196RF_FMOVIE005_PRIME'] #130-133 phase spike "
   ]
  },
  {
   "cell_type": "code",
   "execution_count": 145,
   "id": "ee7f8020",
   "metadata": {},
   "outputs": [],
   "source": [
    "#get the full-width image data\n",
    "full_img_filepath = f'{dump_ew_dir}ew_stats_widths_{radii[0]}_{radii[1]}_{radii[2]}_{radii[3]}_{size}.csv'\n",
    "full_orig_obsdata = pd.read_csv(full_img_filepath, parse_dates=['Date'], index_col='Observation'); ms=20; alpha=0.7\n",
    "\n",
    "#calculate mu, mu0 \n",
    "full_orig_obsdata['Mu'] = np.abs(np.cos(np.radians(full_orig_obsdata['Mean Emission'])))\n",
    "full_orig_obsdata['Mu0'] = np.abs(np.cos(np.radians(full_orig_obsdata['Incidence'])))"
   ]
  },
  {
   "cell_type": "code",
   "execution_count": 146,
   "id": "931403fe",
   "metadata": {},
   "outputs": [
    {
     "name": "stdout",
     "output_type": "stream",
     "text": [
      "** SUMMARY STATISTICS **\n",
      "Unique observation names: 151\n",
      "Total slices: 151\n",
      "Starting date: 2004-06-20 20:03:28\n",
      "Ending date: 2017-09-06 11:47:07\n",
      "Time span: 4825 days 15:43:39\n",
      "\n",
      "/Users/mlessard/REU_2022/data/dump_ew_csv/ew_stats_widths_139470_140170_140265_140965_0.csv\n",
      "\n"
     ]
    }
   ],
   "source": [
    "#print initial statistics\n",
    "print('** SUMMARY STATISTICS **')\n",
    "print('Unique observation names:', len(full_orig_obsdata.groupby('Observation')))\n",
    "print('Total slices:', len(full_orig_obsdata))\n",
    "print('Starting date:', full_orig_obsdata['Date'].min())\n",
    "print('Ending date:', full_orig_obsdata['Date'].max())\n",
    "print('Time span:', full_orig_obsdata['Date'].max()-full_orig_obsdata['Date'].min())\n",
    "print()\n",
    "\n",
    "print(full_img_filepath)\n",
    "print()"
   ]
  },
  {
   "cell_type": "code",
   "execution_count": 147,
   "id": "f7d6962c",
   "metadata": {},
   "outputs": [
    {
     "name": "stdout",
     "output_type": "stream",
     "text": [
      "Removed EQX OBSIDs: {'ISS_112RF_FMOVIE002_PRIME_2', 'ISS_111RF_FMOVIE002_PRIME', 'ISS_112RF_FMOVIE002_PRIME_1', 'ISS_114RF_FMOVIEEQX001_PRIME', 'ISS_110RF_FMOVIE002_PRIME', 'ISS_115RF_FMOVIEEQX001_PRIME'}\n",
      "Unique observation names: 145\n",
      "\n",
      "Removed outlier OBSIDs: ['ISS_091RF_FMOVIE003_PRIME', 'ISS_107RF_FMOVIE002_PRIME', 'ISS_189RF_FMOVIE001_PRIME', 'ISS_041RF_FMOVIE002_VIMS', 'ISS_108RF_FMOVIE001_PRIME', 'ISS_039RF_FMOVIE001_VIMS', 'ISS_041RF_FMOVIE001_VIMS', 'ISS_043RF_FMOVIE001_VIMS', 'ISS_044RF_FMOVIE001_VIMS']\n",
      "Unique observation names: 136\n",
      "\n"
     ]
    }
   ],
   "source": [
    "#remove EQX observations\n",
    "removed_eqx_obsdata = remove_eqx(full_orig_obsdata, eqx_cutoff)\n",
    "\n",
    "if rm_outliers:    \n",
    "    #remove outliers\n",
    "    obsdata = remove_outliers(removed_eqx_obsdata, outliers)\n",
    "else:\n",
    "    obsdata = removed_eqx_obsdata"
   ]
  },
  {
   "cell_type": "code",
   "execution_count": 148,
   "id": "5bdf71e2",
   "metadata": {},
   "outputs": [],
   "source": [
    "# Find \"small\" (<6) e or i\n",
    "low_phase_mask = obsdata['Mean Phase'] <= 60\n",
    "low_phase_obsdata = obsdata[low_phase_mask]\n",
    "lp_low_e_mask = np.abs(low_phase_obsdata['Mean Emission']-90) < 6\n",
    "lp_low_i_mask = np.abs(low_phase_obsdata['Incidence']-90) < 6\n",
    "lp_low_ei_mask = lp_low_e_mask | lp_low_i_mask\n",
    "\n",
    "low_e_mask = np.abs(obsdata['Mean Emission']-90) < 6\n",
    "low_i_mask = np.abs(obsdata['Incidence']-90) < 6\n",
    "low_ei_mask = low_e_mask | low_i_mask"
   ]
  },
  {
   "cell_type": "code",
   "execution_count": 149,
   "id": "b886b17d",
   "metadata": {},
   "outputs": [
    {
     "data": {
      "image/png": "[encoded data removed]",
      "text/plain": [
       "<Figure size 720x216 with 2 Axes>"
      ]
     },
     "metadata": {
      "needs_background": "light"
     },
     "output_type": "display_data"
    }
   ],
   "source": [
    "# Plot low-phase 3-zone Normal EW data\n",
    "plt.figure(figsize=(10,3))\n",
    "\n",
    "#plot the uncorrected points\n",
    "plt.subplot(1, 2, 1)\n",
    "plt.scatter(low_phase_obsdata['Mean Phase'][~lp_low_ei_mask], low_phase_obsdata['Normal EW'][~lp_low_ei_mask], \\\n",
    "                c='midnightblue', alpha=0.7, s=20)\n",
    "plt.scatter(low_phase_obsdata['Mean Phase'][lp_low_ei_mask], low_phase_obsdata['Normal EW'][lp_low_ei_mask], \\\n",
    "                c='red', alpha=0.7, s=20)\n",
    "plt.xlabel('Phase Angle (°)')\n",
    "plt.ylabel('Normal EW')\n",
    "plt.title('Normal EW vs. Low-Phase\\nPhase Angle (uncorrected)')\n",
    "\n",
    "#plot the corrected points + model\n",
    "plt.subplot(1, 2, 2)\n",
    "plt.scatter(low_phase_obsdata['Mean Phase'][~lp_low_ei_mask], low_phase_obsdata['Normal EW3Z'][~lp_low_ei_mask], \\\n",
    "                c='midnightblue', alpha=0.7, s=20)\n",
    "plt.scatter(low_phase_obsdata['Mean Phase'][lp_low_ei_mask], low_phase_obsdata['Normal EW3Z'][lp_low_ei_mask], \\\n",
    "                c='red', alpha=0.7, s=20)\n",
    "    \n",
    "plt.xlabel('Phase Angle (°)')\n",
    "plt.ylabel('Normal EW')\n",
    "plt.title(f'Normal EW vs. Low-Phase\\nPhase Angle (corrected)')\n",
    "plt.show()"
   ]
  },
  {
   "cell_type": "code",
   "execution_count": 150,
   "id": "06885100",
   "metadata": {},
   "outputs": [
    {
     "data": {
      "image/png": "[encoded data removed]",
      "text/plain": [
       "<Figure size 720x216 with 2 Axes>"
      ]
     },
     "metadata": {
      "needs_background": "light"
     },
     "output_type": "display_data"
    }
   ],
   "source": [
    "# Plot pre-calculated 3-zone Normal EW data\n",
    "phase_curve(obsdata[~low_ei_mask], obsdata[low_ei_mask], phase_col='Mean Phase', uc_ew_col='Normal EW',\\\n",
    "            ew_col='Normal EW3Z')"
   ]
  },
  {
   "cell_type": "code",
   "execution_count": null,
   "id": "4cd91df4",
   "metadata": {},
   "outputs": [],
   "source": []
  },
  {
   "cell_type": "code",
   "execution_count": null,
   "id": "144be52b",
   "metadata": {},
   "outputs": [],
   "source": []
  }
 ],
 "metadata": {
  "kernelspec": {
   "display_name": "Python 3 (ipykernel)",
   "language": "python",
   "name": "python3"
  },
  "language_info": {
   "codemirror_mode": {
    "name": "ipython",
    "version": 3
   },
   "file_extension": ".py",
   "mimetype": "text/x-python",
   "name": "python",
   "nbconvert_exporter": "python",
   "pygments_lexer": "ipython3",
   "version": "3.9.13"
  }
 },
 "nbformat": 4,
 "nbformat_minor": 5
}
