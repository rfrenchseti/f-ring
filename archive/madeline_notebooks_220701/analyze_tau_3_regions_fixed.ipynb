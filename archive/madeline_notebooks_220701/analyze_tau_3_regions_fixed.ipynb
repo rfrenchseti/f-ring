{
 "cells": [
  {
   "cell_type": "code",
   "execution_count": 16,
   "id": "077edc87",
   "metadata": {},
   "outputs": [],
   "source": [
    "import matplotlib.pyplot as plt\n",
    "import numpy as np\n",
    "import pandas as pd\n",
    "import sys\n",
    "if '..' not in sys.path: sys.path.append('..')\n",
    "from f_ring_util import (compute_corrected_ew, \n",
    "                         fit_hg_phase_function, \n",
    "                         hg_func,\n",
    "                         print_hg_params)\n",
    "import argparse\n",
    "pd.set_option('display.max_rows', None)\n",
    "\n",
    "# analyze_tau version that only applies tau correction to core range (but, includes all points in optimization)\n",
    "# (cleaned-up version of 3-region analyze_tau script, also using slope tau optimization)"
   ]
  },
  {
   "cell_type": "code",
   "execution_count": 17,
   "id": "8a4c2fcd",
   "metadata": {},
   "outputs": [],
   "source": [
    "# Define functions to process data\n",
    "\n",
    "def drop_obs(region_orig_obsdata, full_orig_obsdata):\n",
    "    #drop any observations from 1 region that aren't in another (make sure they all have same # of obs)\n",
    "    #   region_orig_obsdata: list, of the 3 dataframes (1 per region)\n",
    "    #   full_orig_obsdata: dataframe, of the full image \n",
    "    \n",
    "\n",
    "    #find common observations between the 3 different regions\n",
    "    common_obs = pd.Series(list(set(region_orig_obsdata[0].Observation) \\\n",
    "                                & set(region_orig_obsdata[1].Observation)\\\n",
    "                                & set(region_orig_obsdata[2].Observation)))\n",
    "    \n",
    "    \n",
    "    #store all of the obsdata with uncommon obs dropped\n",
    "    region_dropped_obsdata = []\n",
    "    \n",
    "    #for each region, remove observations not in the list of common observations\n",
    "    for obsdata in region_orig_obsdata:\n",
    "        \n",
    "        #keep only observations in the common list\n",
    "        obsdata = obsdata[obsdata.Observation.isin(common_obs)]\n",
    "        \n",
    "        #reset indices (so they all match)\n",
    "        obsdata = obsdata.reset_index(drop=True)\n",
    "        \n",
    "        #save list of observations (now having dropped any not in common)\n",
    "        region_dropped_obsdata.append(obsdata)\n",
    "    \n",
    "    \n",
    "    #also remove uncommon obs from, reindex full-image dataframe\n",
    "    full_orig_obsdata = full_orig_obsdata[full_orig_obsdata.Observation.isin(common_obs)]\n",
    "    full_orig_obsdata = full_orig_obsdata.reset_index(drop=True)\n",
    "    \n",
    "    print('Removed uncommon OBSIDs:', set(set(region_orig_obsdata[0].Observation) \\\n",
    "                                & set(region_orig_obsdata[1].Observation)\\\n",
    "                                ^ set(region_orig_obsdata[2].Observation)))\n",
    "    print('Unique observation names:', len(full_orig_obsdata))\n",
    "    print()\n",
    "    \n",
    "    return region_dropped_obsdata, full_orig_obsdata\n",
    "\n",
    "\n",
    "def remove_eqx(orig_obsdata, eqx_cutoff):\n",
    "    #remove EQX observations\n",
    "    #orig_obsdata: original pandas dataframe\n",
    "    #returns: obsdata (EQX observations removed)\n",
    "    \n",
    "    good_i = np.abs(orig_obsdata['Incidence']-90) > eqx_cutoff\n",
    "    obsdata = orig_obsdata[good_i]\n",
    "    print('Removed EQX OBSIDs:', set(orig_obsdata[~good_i].groupby('Observation').indices))\n",
    "    print('Unique observation names:', len(obsdata))\n",
    "    print()\n",
    "    \n",
    "    return obsdata\n",
    "\n",
    "def remove_outliers(orig_obsdata, outlier_obs):\n",
    "    #remove 3 outliers from ~phase 50-60 before fitting for tau\n",
    "    #(located by hand, removing from all 3 by observation name)\n",
    "\n",
    "    for obsid in outlier_obs:\n",
    "        #drop row containing outlier ob\n",
    "        orig_obsdata = orig_obsdata[orig_obsdata.Observation != obsid]\n",
    "            \n",
    "    #reset indices (so they all match)\n",
    "    obsdata = orig_obsdata.reset_index(drop=True)\n",
    "    \n",
    "    print('Removed outlier OBSIDs:', set(outlier_obs))\n",
    "    print('Unique observation names:', len(obsdata))\n",
    "    print()\n",
    "    return obsdata\n"
   ]
  },
  {
   "cell_type": "code",
   "execution_count": 18,
   "id": "606a4c94",
   "metadata": {},
   "outputs": [],
   "source": [
    "# Define variables\n",
    "\n",
    "# directory of dumped EW csv files\n",
    "dump_ew_dir = '/Users/mlessard/REU_2022/data/dump_ew_csv/'\n",
    "\n",
    "#use all 3 regions, 4 boundaries between the regions\n",
    "radii = ['139220', '140120', '140320', '141220']\n",
    "\n",
    "size = '0' #slice/step size of the csv file, currently only have 0\n",
    "\n",
    "#degrees within 90 (incidence angle) to cut off/get rid of observations\n",
    "eqx_cutoff = 1.5\n",
    "\n",
    "#list outlier obsids\n",
    "outliers = ['ISS_091RF_FMOVIE003_PRIME', 'ISS_107RF_FMOVIE002_PRIME', 'ISS_189RF_FMOVIE001_PRIME']"
   ]
  },
  {
   "cell_type": "code",
   "execution_count": 19,
   "id": "d7cf8a3a",
   "metadata": {},
   "outputs": [],
   "source": [
    "# Read in the CSV files (full-width, then the 3 different regions)\n",
    "\n",
    "#get the full-width image data\n",
    "full_img_filepath = dump_ew_dir+'core/rin'+radii[0]+'_rout'+radii[3]+'/slice'+size+'_ew_stats.csv'\n",
    "full_orig_obsdata = pd.read_csv(full_img_filepath, parse_dates=['Date']); ms=20; alpha=0.7\n",
    "\n",
    "#calculate mu, mu0 \n",
    "full_orig_obsdata['Mu'] = np.abs(np.cos(np.radians(full_orig_obsdata['Mean Emission'])))\n",
    "full_orig_obsdata['Mu0'] = np.abs(np.cos(np.radians(full_orig_obsdata['Incidence'])))"
   ]
  },
  {
   "cell_type": "code",
   "execution_count": 20,
   "id": "60a34c54",
   "metadata": {},
   "outputs": [
    {
     "name": "stdout",
     "output_type": "stream",
     "text": [
      "Region 1\n",
      "** SUMMARY STATISTICS **\n",
      "Unique observation names: 151\n",
      "Total slices: 151\n",
      "Starting date: 2004-06-20 20:03:28\n",
      "Ending date: 2017-09-06 11:47:07\n",
      "Time span: 4825 days 15:43:39\n",
      "\n",
      "/Users/mlessard/REU_2022/data/dump_ew_csv/inner/rin139220_rout140119/slice0_ew_stats.csv\n",
      "\n",
      "Region 2\n",
      "** SUMMARY STATISTICS **\n",
      "Unique observation names: 151\n",
      "Total slices: 151\n",
      "Starting date: 2004-06-20 20:03:28\n",
      "Ending date: 2017-09-06 11:47:07\n",
      "Time span: 4825 days 15:43:39\n",
      "\n",
      "/Users/mlessard/REU_2022/data/dump_ew_csv/core/rin140120_rout140319/slice0_ew_stats.csv\n",
      "\n",
      "Region 3\n",
      "** SUMMARY STATISTICS **\n",
      "Unique observation names: 148\n",
      "Total slices: 148\n",
      "Starting date: 2004-06-20 20:03:28\n",
      "Ending date: 2017-09-06 11:47:07\n",
      "Time span: 4825 days 15:43:39\n",
      "\n",
      "/Users/mlessard/REU_2022/data/dump_ew_csv/outer/rin140320_rout141220/slice0_ew_stats.csv\n",
      "\n"
     ]
    }
   ],
   "source": [
    "# Read in the CSV files for each of the 3 regions\n",
    "filepath1 = dump_ew_dir+'inner/rin'+radii[0]+'_rout'+str(int(radii[1])-1)+'/slice'+size+'_ew_stats.csv'\n",
    "filepath2 = dump_ew_dir+'core/rin'+radii[1]+'_rout'+str(int(radii[2])-1)+'/slice'+size+'_ew_stats.csv'\n",
    "filepath3 = dump_ew_dir+'outer/rin'+radii[2]+'_rout'+radii[3]+'/slice'+size+'_ew_stats.csv'\n",
    "\n",
    "filepaths = [filepath1, filepath2, filepath3]\n",
    "\n",
    "region_orig_obsdata = []\n",
    "\n",
    "i = 1\n",
    "for filepath in filepaths:\n",
    "    orig_obsdata = pd.read_csv(filepath, parse_dates=['Date']); ms=20; alpha=0.7\n",
    "    \n",
    "    region_orig_obsdata.append(orig_obsdata)\n",
    "    \n",
    "    #print initial statistics for each region\n",
    "    print('Region '+str(i))\n",
    "    print('** SUMMARY STATISTICS **')\n",
    "    print('Unique observation names:', len(orig_obsdata.groupby('Observation')))\n",
    "    print('Total slices:', len(orig_obsdata))\n",
    "    print('Starting date:', orig_obsdata['Date'].min())\n",
    "    print('Ending date:', orig_obsdata['Date'].max())\n",
    "    print('Time span:', orig_obsdata['Date'].max()-orig_obsdata['Date'].min())\n",
    "    print()\n",
    "    \n",
    "    print(filepath)\n",
    "    print()\n",
    "    \n",
    "    i+=1"
   ]
  },
  {
   "cell_type": "code",
   "execution_count": 21,
   "id": "0dd14c58",
   "metadata": {},
   "outputs": [
    {
     "name": "stdout",
     "output_type": "stream",
     "text": [
      "Removed uncommon OBSIDs: {'ISS_007RI_LPHRLFMOV001_PRIME', 'ISS_243RF_FMOVIE001_PRIME_1', 'ISS_178RI_EGAPMOVMP001_PRIME'}\n",
      "Unique observation names: 148\n",
      "\n"
     ]
    }
   ],
   "source": [
    "# Ensure each of the 3 regions, full-image dataframes are of same length so they can be joined together\n",
    "# (drop any observations that don't match between the 3 regions)\n",
    "region_orig_obsdata, full_orig_obsdata = drop_obs(region_orig_obsdata, full_orig_obsdata)"
   ]
  },
  {
   "cell_type": "code",
   "execution_count": 22,
   "id": "08735883",
   "metadata": {},
   "outputs": [],
   "source": [
    "#then, merge them into a single dataframe\n",
    "#combine the Normal EW values from the other 3 regions (1-inner, 2-core, 3-outer) into full_orig dataframe\n",
    "region_normal_ews = [region_orig_obsdata[i]['Normal EW'] for i in range(3)]\n",
    "\n",
    "full_orig_obsdata['Normal EW1'] = region_normal_ews[0] #inner\n",
    "full_orig_obsdata['Normal EW2'] = region_normal_ews[1] #core\n",
    "full_orig_obsdata['Normal EW3'] = region_normal_ews[2] #outer\n"
   ]
  },
  {
   "cell_type": "code",
   "execution_count": 23,
   "id": "cd2c8071",
   "metadata": {},
   "outputs": [
    {
     "name": "stdout",
     "output_type": "stream",
     "text": [
      "Removed EQX OBSIDs: {'ISS_112RF_FMOVIE002_PRIME_1', 'ISS_111RF_FMOVIE002_PRIME', 'ISS_112RF_FMOVIE002_PRIME_2', 'ISS_114RF_FMOVIEEQX001_PRIME', 'ISS_115RF_FMOVIEEQX001_PRIME', 'ISS_110RF_FMOVIE002_PRIME'}\n",
      "Unique observation names: 142\n",
      "\n",
      "Removed outlier OBSIDs: {'ISS_091RF_FMOVIE003_PRIME', 'ISS_189RF_FMOVIE001_PRIME', 'ISS_107RF_FMOVIE002_PRIME'}\n",
      "Unique observation names: 139\n",
      "\n"
     ]
    }
   ],
   "source": [
    "#remove EQX observations\n",
    "removed_eqx_obsdata = remove_eqx(full_orig_obsdata, eqx_cutoff)\n",
    "\n",
    "#remove outliers\n",
    "obsdata = remove_outliers(removed_eqx_obsdata, outliers)"
   ]
  },
  {
   "cell_type": "markdown",
   "id": "153dc193",
   "metadata": {},
   "source": [
    "<h1> Optimize Tau for Low-Phase Observations </h1>"
   ]
  },
  {
   "cell_type": "code",
   "execution_count": 24,
   "id": "40cbfedf",
   "metadata": {},
   "outputs": [],
   "source": [
    "# Find \"small\" (<6) e or i\n",
    "low_phase_mask = obsdata['Mean Phase'] <= 60\n",
    "low_phase_obsdata = obsdata[low_phase_mask]\n",
    "lp_low_e_mask = np.abs(low_phase_obsdata['Mean Emission']-90) < 6\n",
    "lp_low_i_mask = np.abs(low_phase_obsdata['Incidence']-90) < 6\n",
    "lp_low_ei_mask = lp_low_e_mask | lp_low_i_mask\n",
    "\n",
    "low_e_mask = np.abs(obsdata['Mean Emission']-90) < 6\n",
    "low_i_mask = np.abs(obsdata['Incidence']-90) < 6\n",
    "low_ei_mask = low_e_mask | low_i_mask"
   ]
  },
  {
   "cell_type": "code",
   "execution_count": 25,
   "id": "cffb7583",
   "metadata": {},
   "outputs": [
    {
     "name": "stdout",
     "output_type": "stream",
     "text": [
      "\n",
      "** Best Tau: 0.059\n"
     ]
    }
   ],
   "source": [
    "# Find the optimal tau to minimize scatter\n",
    "# only apply the tau correction to the core/Region 2, but use all 3's values to optimize w/ slope/scatter/etc.\n",
    "# also only use the low-phase data to calculate\n",
    "best_tau = None\n",
    "best_slope = 1e38\n",
    "for tau in np.arange(0.000, 0.101, 0.001):\n",
    "    \n",
    "    #get the tau-adjusted EW values for the core/Region 2\n",
    "    core_corrected_ew = compute_corrected_ew(low_phase_obsdata['Normal EW2'], \n",
    "                                             low_phase_obsdata['Mean Emission'], \n",
    "                                             low_phase_obsdata['Incidence'], \n",
    "                                             tau=tau)\n",
    "    #add this value to the inner/Region 1 outer/Region 3 Normal EW values to get overall corrected Normal EW value\n",
    "    corrected_ew = low_phase_obsdata['Normal EW1'] + core_corrected_ew + low_phase_obsdata['Normal EW3']\n",
    "    \n",
    "    coeff = np.polyfit(low_phase_obsdata['Mu0'], corrected_ew, 1)\n",
    "    if abs(coeff[0]) < best_slope:\n",
    "        best_slope = abs(coeff[0])\n",
    "        best_tau = tau\n",
    "    #print(f'Tau {tau:.3f} - Slope: {coeff[0]:8.5f}')\n",
    "\n",
    "print()\n",
    "print(f'** Best Tau: {best_tau:.3f}')"
   ]
  },
  {
   "cell_type": "code",
   "execution_count": 26,
   "id": "27805516",
   "metadata": {},
   "outputs": [],
   "source": [
    "#add columns with total (all 3 regions') uncorrected EW, corrected EW (the latter using best-fit tau)\n",
    "#do for both full, low \n",
    "\n",
    "#total uncorrected EW:\n",
    "total_uc_ew = obsdata['Normal EW1'] + obsdata['Normal EW2'] + obsdata['Normal EW3']\n",
    "\n",
    "#total corrected EW:\n",
    "core_c_ew = compute_corrected_ew(obsdata['Normal EW2'], \n",
    "                                 obsdata['Mean Emission'], \n",
    "                                 obsdata['Incidence'], \n",
    "                                 tau=best_tau)\n",
    "total_c_ew = obsdata['Normal EW1'] + core_c_ew + obsdata['Normal EW3']\n",
    "\n",
    "#add values as additional columns to dataframes\n",
    "obsdata['Total UC EW'] = total_uc_ew\n",
    "obsdata['Total C EW'] = total_c_ew\n",
    "\n",
    "#recalculate values for low-ei, low-phase observations (now that Total EW values have been added)\n",
    "low_phase_mask = obsdata['Mean Phase'] <= 60\n",
    "low_phase_obsdata = obsdata[low_phase_mask]\n",
    "lp_low_e_mask = np.abs(low_phase_obsdata['Mean Emission']-90) < 6\n",
    "lp_low_i_mask = np.abs(low_phase_obsdata['Incidence']-90) < 6\n",
    "lp_low_ei_mask = lp_low_e_mask | lp_low_i_mask\n",
    "\n",
    "low_e_mask = np.abs(obsdata['Mean Emission']-90) < 6\n",
    "low_i_mask = np.abs(obsdata['Incidence']-90) < 6\n",
    "low_ei_mask = low_e_mask | low_i_mask"
   ]
  },
  {
   "cell_type": "code",
   "execution_count": 27,
   "id": "ce858743",
   "metadata": {},
   "outputs": [
    {
     "name": "stdout",
     "output_type": "stream",
     "text": [
      "\n",
      "Uncorrected Low Phase:\n",
      "Mean Normal EW Low E/I: 0.51446\n",
      "Mean Normal EW Other:   0.58467\n",
      "Other/Low: 1.13646\n",
      "\n",
      "Corrected (tau=0.059) Low Phase:\n",
      "Mean Normal EW Low E/I: 0.67323\n",
      "Mean Normal EW Other:   0.66731\n",
      "Other/Low: 0.99121\n",
      "\n",
      "Overall change due to Tau:\n",
      "Mean Normal EW Low E/I: 1.30861\n",
      "Mean Normal EW Other:   1.14136\n"
     ]
    }
   ],
   "source": [
    "#calculate means of uncorrected (UC) vs. corrected (C) low-phase data, display\n",
    "\n",
    "print()\n",
    "print('Uncorrected Low Phase:')\n",
    "uc_mean_low = np.mean(low_phase_obsdata['Total UC EW'][lp_low_ei_mask])\n",
    "uc_mean_notlow = np.mean(low_phase_obsdata['Total UC EW'][~lp_low_ei_mask])\n",
    "print(f'Mean Normal EW Low E/I: {uc_mean_low:.5f}')\n",
    "print(f'Mean Normal EW Other:   {uc_mean_notlow:.5f}')\n",
    "print(f'Other/Low: {uc_mean_notlow/uc_mean_low:.5f}')\n",
    "print()\n",
    "\n",
    "lp_corrected_ew = low_phase_obsdata['Total C EW']\n",
    "mean_low = np.mean(lp_corrected_ew[lp_low_ei_mask])\n",
    "mean_notlow = np.mean(lp_corrected_ew[~lp_low_ei_mask])\n",
    "print(f'Corrected (tau={best_tau:.3f}) Low Phase:')\n",
    "print(f'Mean Normal EW Low E/I: {mean_low:.5f}')\n",
    "print(f'Mean Normal EW Other:   {mean_notlow:.5f}')\n",
    "print(f'Other/Low: {mean_notlow/mean_low:.5f}')\n",
    "\n",
    "print()\n",
    "print('Overall change due to Tau:')\n",
    "print(f'Mean Normal EW Low E/I: {mean_low/uc_mean_low:.5f}')\n",
    "print(f'Mean Normal EW Other:   {mean_notlow/uc_mean_notlow:.5f}')"
   ]
  },
  {
   "cell_type": "code",
   "execution_count": 28,
   "id": "0c372642",
   "metadata": {},
   "outputs": [
    {
     "name": "stdout",
     "output_type": "stream",
     "text": [
      "\n",
      "Uncorrected H-G params:\n",
      "  g1 = 0.648 weight1 = 0.648\n",
      "  g2 = 0.022 weight2 = 0.352\n",
      "  Standard deviation: 0.05292\n",
      "\n",
      "Corrected (tau=0.059) params:\n",
      "  g1 = 0.632 weight1 = 0.660\n",
      "  g2 = -0.015 weight2 = 0.340\n",
      "  Standard deviation: 0.05331\n"
     ]
    }
   ],
   "source": [
    "# Find H-G phase curve for full dataset\n",
    "corrected_ew = obsdata['Total C EW']\n",
    "\n",
    "#make 'Multi Normal EW' column the uncorrected values for the moment (to submit to hg function)\n",
    "obsdata['Multi Normal EW'] = obsdata['Total UC EW']\n",
    "uc_hg_params, uc_hg_used_data, uc_hg_std = fit_hg_phase_function(2, None, obsdata, \n",
    "                                                                 verbose=False, multi_regions=True)\n",
    "print()\n",
    "print('Uncorrected H-G params:')\n",
    "print_hg_params(uc_hg_params, indent=2)\n",
    "print(f'  Standard deviation: {uc_hg_std:.5f}')\n",
    "\n",
    "\n",
    "#make 'Multi Normal EW' column the CORRECTED values now (to submit to hg function)\n",
    "obsdata['Multi Normal EW'] = obsdata['Total C EW']\n",
    "#(do NOT submit a best_tau value to function, already applied tau correction on center alone)\n",
    "hg_params, hg_used_data, hg_std = fit_hg_phase_function(2, None, obsdata, \n",
    "                                                        verbose=False, multi_regions=True)\n",
    "print()\n",
    "print(f'Corrected (tau={best_tau:.3f}) params:')\n",
    "print_hg_params(hg_params, indent=2)\n",
    "print(f'  Standard deviation: {hg_std:.5f}')"
   ]
  },
  {
   "cell_type": "code",
   "execution_count": 29,
   "id": "93e61b73",
   "metadata": {},
   "outputs": [
    {
     "data": {
      "image/png": "[encoded data removed]",
      "text/plain": [
       "<Figure size 864x648 with 4 Axes>"
      ]
     },
     "metadata": {
      "needs_background": "light"
     },
     "output_type": "display_data"
    }
   ],
   "source": [
    "# Plot results\n",
    "plt.figure(figsize=(12,9)) \n",
    "plt.subplot(2, 2, 1) #figure 1: low-phase, uncorrected\n",
    "plt.scatter(low_phase_obsdata['Mean Phase'][lp_low_ei_mask], \n",
    "            low_phase_obsdata['Total UC EW'][lp_low_ei_mask], \n",
    "            s=ms, c='red', label='Low e or i')\n",
    "plt.scatter(low_phase_obsdata['Mean Phase'][~lp_low_ei_mask], \n",
    "            low_phase_obsdata['Total UC EW'][~lp_low_ei_mask], \n",
    "            s=ms, alpha=alpha, c='blue', label='Other')\n",
    "plt.legend()\n",
    "plt.xlabel('Phase Angle (°)')\n",
    "plt.ylabel('Normal EW')\n",
    "plt.title('Normal EW vs. Phase Angle (uncorrected)')\n",
    "\n",
    "plt.subplot(2, 2, 2) #figure 2: low-phase, corrected\n",
    "plt.scatter(low_phase_obsdata['Mean Phase'][lp_low_ei_mask], \n",
    "            lp_corrected_ew[lp_low_ei_mask], \n",
    "            s=ms, c='red', label='Low e or i')\n",
    "plt.scatter(low_phase_obsdata['Mean Phase'][~lp_low_ei_mask], \n",
    "            lp_corrected_ew[~lp_low_ei_mask], \n",
    "            s=ms, alpha=alpha, c='blue', label='Other')\n",
    "plt.legend()\n",
    "plt.xlabel('Phase Angle (°)')\n",
    "plt.ylabel('Normal EW')\n",
    "plt.title(f'Normal EW vs. Phase Angle (tau={best_tau:.3f})')\n",
    "\n",
    "plt.subplot(2, 2, 3) #figure 3: all data, uncorrected\n",
    "plt.scatter(obsdata['Mean Phase'][low_ei_mask], \n",
    "            obsdata['Total UC EW'][low_ei_mask], \n",
    "            s=ms, c='red', label='Low e or i')\n",
    "plt.scatter(obsdata['Mean Phase'][~low_ei_mask], \n",
    "            obsdata['Total UC EW'][~low_ei_mask], \n",
    "            s=ms, alpha=alpha, c='blue', label='Other')\n",
    "xrange = np.arange(obsdata['Mean Phase'].min(), obsdata['Mean Phase'].max()+1)\n",
    "uc_hg_phase_model = hg_func(uc_hg_params, np.radians(xrange))\n",
    "plt.plot(xrange, uc_hg_phase_model, '-', color='green', lw=2, label='Phase model')\n",
    "plt.legend()\n",
    "plt.xlabel('Phase Angle (°)')\n",
    "plt.ylabel('Normal EW')\n",
    "plt.title('Normal EW vs. Phase Angle (uncorrected)')\n",
    "\n",
    "plt.subplot(2, 2, 4) #figure 4: all data, corrected\n",
    "plt.scatter(obsdata['Mean Phase'][low_ei_mask], \n",
    "            corrected_ew[low_ei_mask], \n",
    "            s=ms, c='red', label='Low e or i')\n",
    "plt.scatter(obsdata['Mean Phase'][~low_ei_mask], \n",
    "            corrected_ew[~low_ei_mask], \n",
    "            s=ms, alpha=alpha, c='blue', label='Other')\n",
    "xrange = np.arange(obsdata['Mean Phase'].min(), obsdata['Mean Phase'].max()+1)\n",
    "hg_phase_model = hg_func(hg_params, np.radians(xrange))\n",
    "plt.plot(xrange, hg_phase_model, '-', color='green', lw=2, label='Phase model')\n",
    "plt.legend()\n",
    "plt.xlabel('Phase Angle (°)')\n",
    "plt.ylabel('Normal EW')\n",
    "plt.title(f'Normal EW vs. Phase Angle (tau={best_tau:.3f})')\n",
    "plt.show()"
   ]
  },
  {
   "cell_type": "code",
   "execution_count": 30,
   "id": "05704720",
   "metadata": {},
   "outputs": [
    {
     "data": {
      "text/plain": [
       "Text(0.5, 1.0, 'Normal EW vs. Phase Angle (uncorrected)')"
      ]
     },
     "execution_count": 30,
     "metadata": {},
     "output_type": "execute_result"
    },
    {
     "data": {
      "image/png": "[encoded data removed]",
      "text/plain": [
       "<Figure size 864x324 with 2 Axes>"
      ]
     },
     "metadata": {
      "needs_background": "light"
     },
     "output_type": "display_data"
    }
   ],
   "source": [
    "# plot the original Normal EW values against the combined (UC) EW values from the 3 regions\n",
    "plt.figure(figsize=(12,4.5)) \n",
    "plt.subplot(1,2,1)\n",
    "plt.scatter(low_phase_obsdata['Mean Phase'], \n",
    "            low_phase_obsdata['Total UC EW'], \n",
    "            s=ms, c='teal', label='3-region combined UC EW')\n",
    "plt.scatter(low_phase_obsdata['Mean Phase'], \n",
    "            low_phase_obsdata['Normal EW'], \n",
    "            s=ms, alpha=alpha, c='coral', label='Full-image UC EW')\n",
    "plt.legend()\n",
    "plt.xlabel('Phase Angle (°)')\n",
    "plt.ylabel('Normal EW')\n",
    "plt.title('Normal EW vs. Phase Angle (uncorrected)')\n",
    "\n",
    "\n",
    "plt.subplot(1,2,2)\n",
    "plt.scatter(obsdata['Mean Phase'], \n",
    "            obsdata['Total UC EW'], \n",
    "            s=ms, c='teal', label='3-region combined UC EW')\n",
    "plt.scatter(obsdata['Mean Phase'], \n",
    "            obsdata['Normal EW'], \n",
    "            s=ms, alpha=alpha, c='coral', label='Full-image UC EW')\n",
    "xrange = np.arange(obsdata['Mean Phase'].min(), obsdata['Mean Phase'].max()+1)\n",
    "plt.legend()\n",
    "plt.xlabel('Phase Angle (°)')\n",
    "plt.ylabel('Normal EW')\n",
    "plt.title('Normal EW vs. Phase Angle (uncorrected)')\n",
    "\n"
   ]
  }
 ],
 "metadata": {
  "kernelspec": {
   "display_name": "Python 3 (ipykernel)",
   "language": "python",
   "name": "python3"
  },
  "language_info": {
   "codemirror_mode": {
    "name": "ipython",
    "version": 3
   },
   "file_extension": ".py",
   "mimetype": "text/x-python",
   "name": "python",
   "nbconvert_exporter": "python",
   "pygments_lexer": "ipython3",
   "version": "3.8.10"
  }
 },
 "nbformat": 4,
 "nbformat_minor": 5
}
