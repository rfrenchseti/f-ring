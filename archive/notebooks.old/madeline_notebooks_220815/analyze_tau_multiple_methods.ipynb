{
 "cells": [
  {
   "cell_type": "markdown",
   "id": "98ec6d9b",
   "metadata": {},
   "source": [
    "# Analyzing tau with different methods (low-phase, HG params) (3-region)"
   ]
  },
  {
   "cell_type": "code",
   "execution_count": 1,
   "id": "47627698",
   "metadata": {},
   "outputs": [],
   "source": [
    "import matplotlib.pyplot as plt\n",
    "import numpy as np\n",
    "import pandas as pd\n",
    "import sys\n",
    "if '..' not in sys.path: sys.path.append('..')\n",
    "from f_ring_util import (compute_corrected_ew, \n",
    "                         compute_corrected_ew_col,\n",
    "                         fit_hg_phase_function, \n",
    "                         hg_func,\n",
    "                         print_hg_params)\n",
    "pd.set_option('display.max_rows', None)\n",
    "\n",
    "# analyze_tau version that only applies tau correction to core range (but, includes all points in optimization)"
   ]
  },
  {
   "cell_type": "code",
   "execution_count": 2,
   "id": "991d197e",
   "metadata": {},
   "outputs": [],
   "source": [
    "# Define functions to process data\n",
    "\n",
    "def remove_eqx(orig_obsdata, eqx_cutoff):\n",
    "    #remove EQX observations\n",
    "    #orig_obsdata: original pandas dataframe\n",
    "    #returns: obsdata (EQX observations removed)\n",
    "    \n",
    "    good_i = np.abs(orig_obsdata['Incidence']-90) > eqx_cutoff\n",
    "    obsdata = orig_obsdata[good_i]\n",
    "    print('Removed EQX OBSIDs:', set(orig_obsdata[~good_i].groupby('Observation').indices))\n",
    "    print('Unique observation names:', len(obsdata))\n",
    "    print()\n",
    "    \n",
    "    return obsdata\n",
    "\n",
    "def remove_outliers(obsdata, outlier_obs):\n",
    "    #remove 3 outliers from ~phase 50-60 before fitting for tau\n",
    "    #(located by hand, removing from all 3 by observation name)\n",
    "    \n",
    "    for obsid in outlier_obs:\n",
    "        #drop row containing outlier ob\n",
    "        obsdata = obsdata[obsdata.index != obsid]\n",
    "            \n",
    "    print('Removed outlier OBSIDs:', outlier_obs)\n",
    "    print('Unique observation names:', len(obsdata))\n",
    "    print()\n",
    "    return obsdata"
   ]
  },
  {
   "cell_type": "code",
   "execution_count": 20,
   "id": "e66d3796",
   "metadata": {},
   "outputs": [],
   "source": [
    "# Define other functions\n",
    "\n",
    "# optimize for best-fit tau, low-phase method\n",
    "def optimize_tau_lp(obsdata):\n",
    "    \n",
    "    # Find \"small\" (<6) e or i\n",
    "    low_phase_mask = obsdata['Mean Phase'] <= 60\n",
    "    low_phase_obsdata = obsdata[low_phase_mask]\n",
    "    lp_low_e_mask = np.abs(low_phase_obsdata['Mean Emission']-90) < 6\n",
    "    lp_low_i_mask = np.abs(low_phase_obsdata['Incidence']-90) < 6\n",
    "    lp_low_ei_mask = lp_low_e_mask | lp_low_i_mask\n",
    "\n",
    "    low_e_mask = np.abs(obsdata['Mean Emission']-90) < 6\n",
    "    low_i_mask = np.abs(obsdata['Incidence']-90) < 6\n",
    "    low_ei_mask = low_e_mask | low_i_mask\n",
    "    \n",
    "    print(low_phase_obsdata.shape)\n",
    "    \n",
    "    best_tau = None\n",
    "    best_slope = 1e38\n",
    "    for tau in np.arange(0.000, 0.101, 0.001):\n",
    "\n",
    "        #get the tau-adjusted EW values for the core/Region 2\n",
    "        corrected_ew = compute_corrected_ew_col(low_phase_obsdata, col_tau=('Normal EWI', None, \\\n",
    "                                                                            'Normal EWC', tau, \\\n",
    "                                                                            'Normal EWO', None)) \n",
    "\n",
    "        coeff = np.polyfit(low_phase_obsdata['Mu0'], corrected_ew, 1)\n",
    "        if abs(coeff[0]) < best_slope:\n",
    "            best_slope = abs(coeff[0])\n",
    "            best_tau = tau\n",
    "        #print(f'Tau {tau:.3f} - Slope: {coeff[0]:8.5f}')\n",
    "\n",
    "    print()\n",
    "    print(f'** Best Tau: {best_tau:.3f}')\n",
    "    \n",
    "    return best_tau\n",
    "\n",
    "\n",
    "    \n",
    "# optimize for best-fit tau, HG param method\n",
    "def optimize_tau_hg(obsdata, nstd=None):\n",
    "    best_tau = None\n",
    "    best_std = 1e38\n",
    "    for tau in np.arange(0.000, 0.101, 0.001):\n",
    "        hg_params, hg_used_data, hg_std = fit_hg_phase_function(2, nstd, obsdata, col_tau=('Normal EWI', None, \\\n",
    "                                                                                            'Normal EWC', tau, \\\n",
    "                                                                                            'Normal EWO', None))\n",
    "\n",
    "        if hg_std < best_std:\n",
    "            best_std = hg_std\n",
    "            best_tau = tau\n",
    "\n",
    "    print()\n",
    "    print(f'** Best Tau: {best_tau:.3f}')\n",
    "    return best_tau\n",
    "\n",
    "\n",
    "def phase_curve(hg_used_data, phase_col, uc_ew_col, ew_col, hg_params, best_tau, outlier_obs=None):\n",
    "    \n",
    "    if outlier_obs:\n",
    "        outliers = hg_used_data[hg_used_data.index.isin(outlier_obs)]\n",
    "        #outliers = hg_used_data.drop(outlier_obs)\n",
    "    \n",
    "    plt.figure(figsize=(10,3))\n",
    "\n",
    "    #plot the uncorrected points\n",
    "    plt.subplot(1, 2, 1)        \n",
    "    plt.scatter(hg_used_data[phase_col], hg_used_data[uc_ew_col], c='midnightblue')\n",
    "    if outlier_obs:\n",
    "        plt.scatter(outliers[phase_col], outliers[uc_ew_col], c='lightcoral', edgecolors='black')\n",
    "    plt.xlabel('Phase Angle (°)')\n",
    "    plt.ylabel('Normal EW')\n",
    "    plt.title('Normal EW vs. Phase Angle (uncorrected)')\n",
    "\n",
    "    #plot the corrected points + model\n",
    "    plt.subplot(1, 2, 2)\n",
    "    plt.scatter(hg_used_data[phase_col], hg_used_data[ew_col], c='midnightblue')\n",
    "    if outlier_obs:\n",
    "        plt.scatter(outliers[phase_col], outliers[ew_col], c='lightcoral', edgecolors='black')\n",
    "    #plot the phase curve\n",
    "    xrange = np.arange(hg_used_data[phase_col].min(), hg_used_data[phase_col].max()+1)\n",
    "    hg_phase_model = hg_func(hg_params, xrange)\n",
    "    plt.plot(xrange, hg_phase_model, '-', color='tab:red', lw=2, label='Phase model')\n",
    "    \n",
    "    plt.xlabel('Phase Angle (°)')\n",
    "    plt.ylabel('Normal EW')\n",
    "    plt.title(f'Normal EW vs. Phase Angle\\n(corrected), best tau ={best_tau}')\n",
    "    plt.show()"
   ]
  },
  {
   "cell_type": "code",
   "execution_count": 4,
   "id": "98baab49",
   "metadata": {},
   "outputs": [],
   "source": [
    "# Define variables\n",
    "\n",
    "# directory of dumped EW csv files\n",
    "dump_ew_dir = '/Users/mlessard/REU_2022/data/dump_ew_csv/'\n",
    "\n",
    "#use all 3 regions, 4 boundaries between the regions\n",
    "radii = ['139470', '140170', '140265', '140965']\n",
    "\n",
    "size = '0' #slice/step size of the csv file\n",
    "\n",
    "#degrees within 90 (incidence angle) to cut off/get rid of observations\n",
    "eqx_cutoff = 1.5\n",
    "\n",
    "#define nstd for the HG param method\n",
    "nstd = None\n",
    "\n",
    "#remove outliers? (applies to both low-phase and HG param method)\n",
    "rm_outliers = False\n",
    "\n",
    "#list outlier obsids\n",
    "outliers = ['ISS_091RF_FMOVIE003_PRIME', 'ISS_107RF_FMOVIE002_PRIME', 'ISS_189RF_FMOVIE001_PRIME']\n",
    "outliers = outliers + ['ISS_041RF_FMOVIE002_VIMS', 'ISS_108RF_FMOVIE001_PRIME', 'ISS_039RF_FMOVIE001_VIMS'] #105 outliers\n",
    "outliers = outliers + ['ISS_041RF_FMOVIE001_VIMS', 'ISS_043RF_FMOVIE001_VIMS', 'ISS_044RF_FMOVIE001_VIMS'] #85 outliers\n",
    "#\"spike\" outliers for 1-degree HG param phase curve:\n",
    "#outliers = outliers + ['ISS_036RF_FMOVIE001_VIMS']  #160 phase spike\n",
    "#outliers = outliers + ['ISS_196RF_FMOVIE006_PRIME'] #150 phase spike\n",
    "#outliers = outliers + ['ISS_039RF_FMOVIE002_VIMS']  #~130 phase spike\n",
    "#outliers = outliers + ['ISS_036RF_FMOVIE002_VIMS','ISS_196RF_FMOVIE005_PRIME'] #130-133 phase spike "
   ]
  },
  {
   "cell_type": "code",
   "execution_count": null,
   "id": "b1964cf6",
   "metadata": {},
   "outputs": [],
   "source": []
  },
  {
   "cell_type": "code",
   "execution_count": 5,
   "id": "23ae31a4",
   "metadata": {},
   "outputs": [],
   "source": [
    "#get the full-width image data\n",
    "full_img_filepath = f'{dump_ew_dir}ew_stats_widths_{radii[0]}_{radii[1]}_{radii[2]}_{radii[3]}_{size}.csv'\n",
    "full_orig_obsdata = pd.read_csv(full_img_filepath, parse_dates=['Date'], index_col='Observation'); ms=20; alpha=0.7\n",
    "\n",
    "#calculate mu, mu0 \n",
    "full_orig_obsdata['Mu'] = np.abs(np.cos(np.radians(full_orig_obsdata['Mean Emission'])))\n",
    "full_orig_obsdata['Mu0'] = np.abs(np.cos(np.radians(full_orig_obsdata['Incidence'])))"
   ]
  },
  {
   "cell_type": "code",
   "execution_count": 6,
   "id": "d0c8e3c6",
   "metadata": {},
   "outputs": [
    {
     "name": "stdout",
     "output_type": "stream",
     "text": [
      "** SUMMARY STATISTICS **\n",
      "Unique observation names: 151\n",
      "Total slices: 151\n",
      "Starting date: 2004-06-20 20:03:28\n",
      "Ending date: 2017-09-06 11:47:07\n",
      "Time span: 4825 days 15:43:39\n",
      "\n",
      "/Users/mlessard/REU_2022/data/dump_ew_csv/ew_stats_widths_139470_140170_140265_140965_0.csv\n",
      "\n"
     ]
    }
   ],
   "source": [
    "#print initial statistics\n",
    "print('** SUMMARY STATISTICS **')\n",
    "print('Unique observation names:', len(full_orig_obsdata.groupby('Observation')))\n",
    "print('Total slices:', len(full_orig_obsdata))\n",
    "print('Starting date:', full_orig_obsdata['Date'].min())\n",
    "print('Ending date:', full_orig_obsdata['Date'].max())\n",
    "print('Time span:', full_orig_obsdata['Date'].max()-full_orig_obsdata['Date'].min())\n",
    "print()\n",
    "\n",
    "print(full_img_filepath)\n",
    "print()"
   ]
  },
  {
   "cell_type": "code",
   "execution_count": 7,
   "id": "68c2b9ce",
   "metadata": {},
   "outputs": [
    {
     "name": "stdout",
     "output_type": "stream",
     "text": [
      "Removed EQX OBSIDs: {'ISS_112RF_FMOVIE002_PRIME_1', 'ISS_111RF_FMOVIE002_PRIME', 'ISS_112RF_FMOVIE002_PRIME_2', 'ISS_114RF_FMOVIEEQX001_PRIME', 'ISS_115RF_FMOVIEEQX001_PRIME', 'ISS_110RF_FMOVIE002_PRIME'}\n",
      "Unique observation names: 145\n",
      "\n"
     ]
    }
   ],
   "source": [
    "#remove EQX observations\n",
    "removed_eqx_obsdata = remove_eqx(full_orig_obsdata, eqx_cutoff)\n",
    "\n",
    "if rm_outliers:    \n",
    "    #remove outliers\n",
    "    obsdata = remove_outliers(removed_eqx_obsdata, outliers)\n",
    "else:\n",
    "    obsdata = removed_eqx_obsdata"
   ]
  },
  {
   "cell_type": "code",
   "execution_count": 8,
   "id": "c09be74b",
   "metadata": {},
   "outputs": [
    {
     "name": "stdout",
     "output_type": "stream",
     "text": [
      "(43, 66)\n",
      "\n",
      "** Best Tau: 0.048\n",
      "Ratio min -0.1333657914690496 Max 0.19118488531538622 Sigma 0.05445516809468047\n",
      "Ratio min -0.13280372582327674 Max 0.19099127852980002 Sigma 0.05431849528744258\n",
      "Ratio min -0.1322407298173228 Max 0.1907945961313066 Sigma 0.05418559345663229\n",
      "Ratio min -0.13167510347365513 Max 0.19059882201037254 Sigma 0.0540571443386335\n",
      "Ratio min -0.13110789392323255 Max 0.19040152186916204 Sigma 0.05393287456936137\n",
      "Ratio min -0.1305391234779462 Max 0.19020265635591344 Sigma 0.05381286382243708\n",
      "Ratio min -0.12996802349865602 Max 0.19000406572545667 Sigma 0.05369746950768302\n",
      "Ratio min -0.12939540095645097 Max 0.18980385157033597 Sigma 0.05358649194979145\n",
      "Ratio min -0.12882169188624207 Max 0.18960095624666481 Sigma 0.05347985651953808\n",
      "Ratio min -0.1282450025628698 Max 0.1893999786208084 Sigma 0.05337831880621891\n",
      "Ratio min -0.12766684320698515 Max 0.18919729152544218 Sigma 0.05328141940297703\n",
      "Ratio min -0.12708706569028433 Max 0.18899326243576428 Sigma 0.053189285964103286\n",
      "Ratio min -0.12650568498183237 Max 0.1887878617691328 Sigma 0.05310198534804924\n",
      "Ratio min -0.1259220734486254 Max 0.18858266107835078 Sigma 0.05301981557360434\n",
      "Ratio min -0.12545336473432156 Max 0.18837606235371424 Sigma 0.052942608246568816\n",
      "Ratio min -0.12586477848295602 Max 0.1881708917855269 Sigma 0.05287083740871196\n",
      "Ratio min -0.12627161308887117 Max 0.18796125214125514 Sigma 0.05280370539187753\n",
      "Ratio min -0.1266855039144677 Max 0.18775302322538764 Sigma 0.05274212356580015\n",
      "Ratio min -0.1271004036098802 Max 0.18754316429765328 Sigma 0.05268570475328537\n",
      "Ratio min -0.12752211692368798 Max 0.1873346421545716 Sigma 0.052634927577509205\n",
      "Ratio min -0.12794098907933638 Max 0.1871225522829495 Sigma 0.05258913361366616\n",
      "Ratio min -0.12836511281059532 Max 0.18691103351101285 Sigma 0.05254896323369843\n",
      "Ratio min -0.12879194921191914 Max 0.18669880905962588 Sigma 0.052514273836488\n",
      "Ratio min -0.1292224819376822 Max 0.18648639948514173 Sigma 0.05248517769544801\n",
      "Ratio min -0.12965581673523657 Max 0.1862733652738306 Sigma 0.052461646426745896\n",
      "Ratio min -0.13008930579020783 Max 0.18605834373638663 Sigma 0.052443519326988056\n",
      "Ratio min -0.13052401833963997 Max 0.18584188961346437 Sigma 0.05243090488603716\n",
      "Ratio min -0.1309667731247827 Max 0.18562759921032335 Sigma 0.05242433144188211\n",
      "Ratio min -0.1314108552005654 Max 0.18541197539663773 Sigma 0.05242332900060365\n",
      "Ratio min -0.13185367749645205 Max 0.18519365962423712 Sigma 0.05242772838352775\n",
      "Ratio min -0.1323021881871511 Max 0.1849763421963035 Sigma 0.052438056664052386\n",
      "Ratio min -0.1327528278045436 Max 0.18475815158621606 Sigma 0.05245406552523078\n",
      "Ratio min -0.1332063680828429 Max 0.18453951559415027 Sigma 0.05247582171368048\n",
      "Ratio min -0.13366193070340196 Max 0.18431998743660885 Sigma 0.05250326814626323\n",
      "Ratio min -0.13411894707297356 Max 0.18409927641685594 Sigma 0.05253636710556361\n",
      "Ratio min -0.13458130296404577 Max 0.18387948194375456 Sigma 0.05257540108331022\n",
      "Ratio min -0.13504494879156403 Max 0.18365845178379275 Sigma 0.05262007247319692\n",
      "Ratio min -0.1355098138900776 Max 0.18343616372605218 Sigma 0.05267037055164137\n",
      "Ratio min -0.1359777530264436 Max 0.18321361711410405 Sigma 0.05272641889845383\n",
      "Ratio min -0.1364496368024666 Max 0.18299134501106415 Sigma 0.052788270086002766\n",
      "Ratio min -0.13692230658079776 Max 0.18276760912245923 Sigma 0.052855677808827155\n",
      "Ratio min -0.1374017946163042 Max 0.18254575209411908 Sigma 0.05292905855126343\n",
      "Ratio min -0.13788078090798753 Max 0.18232177351634718 Sigma 0.05300786363740354\n",
      "Ratio min -0.13836070152499286 Max 0.18209646480205682 Sigma 0.053092172161953985\n",
      "Ratio min -0.1388469703132405 Max 0.1818728618068859 Sigma 0.05318234473912534\n",
      "Ratio min -0.13933188646262765 Max 0.18164670130187952 Sigma 0.053277800786961774\n",
      "Ratio min -0.139821955219238 Max 0.18142160430692447 Sigma 0.05337896960457702\n",
      "Ratio min -0.14031440770355258 Max 0.181196083495744 Sigma 0.05348562088235008\n",
      "Ratio min -0.14080870394681347 Max 0.18096982757989466 Sigma 0.05359767685032046\n",
      "Ratio min -0.14130415304690333 Max 0.18074247673113578 Sigma 0.05371505017052166\n",
      "Ratio min -0.1418033710335879 Max 0.18051551818533548 Sigma 0.05383788155453428\n",
      "Ratio min -0.14230671486264357 Max 0.18028918380248712 Sigma 0.053966150245902844\n",
      "Ratio min -0.142809516791379 Max 0.1813034618802072 Sigma 0.0540994845351435\n",
      "Ratio min -0.14331779646578333 Max 0.1843779349038545 Sigma 0.0542382534196559\n",
      "Ratio min -0.1438262450318496 Max 0.1874431586420041 Sigma 0.054382037973491615\n",
      "Ratio min -0.1443361592557806 Max 0.19049982646464175 Sigma 0.05453087839633975\n",
      "Ratio min -0.1448528701901203 Max 0.1935513218572104 Sigma 0.05468508234556758\n",
      "Ratio min -0.14536800773517167 Max 0.19659183459446603 Sigma 0.05484402275203202\n",
      "Ratio min -0.14588867700070368 Max 0.19962597942318355 Sigma 0.05500812615561378\n",
      "Ratio min -0.14640859692746785 Max 0.20264934643830496 Sigma 0.05517690789909822\n",
      "Ratio min -0.14693446183207012 Max 0.20566629532577624 Sigma 0.055350759594536225\n",
      "Ratio min -0.14746060657748722 Max 0.2086728347015399 Sigma 0.05552923832049263\n",
      "Ratio min -0.1479881950423044 Max 0.21166959059192011 Sigma 0.05571236013936256\n",
      "Ratio min -0.1485209492118134 Max 0.21465896687771935 Sigma 0.05590031180958049\n",
      "Ratio min -0.14905250233932707 Max 0.21763646423427443 Sigma 0.05609260308055792\n",
      "Ratio min -0.14959050382265981 Max 0.22060716497217975 Sigma 0.056289675709486724\n",
      "Ratio min -0.15012740079547768 Max 0.22356578726150733 Sigma 0.05649096595532422\n",
      "Ratio min -0.15066842665147265 Max 0.22651577975311415 Sigma 0.056696751820122473\n",
      "Ratio min -0.151211790834061 Max 0.2294557893743007 Sigma 0.05690684725265115\n",
      "Ratio min -0.1517576269262513 Max 0.23238580917569981 Sigma 0.057121195271892036\n",
      "Ratio min -0.15230424330769615 Max 0.23530454097523093 Sigma 0.05733961631293196\n",
      "Ratio min -0.15285383624865298 Max 0.23821340929527002 Sigma 0.05756218672403955\n",
      "Ratio min -0.15340755561020344 Max 0.24111307755112046 Sigma 0.057788907146569306\n",
      "Ratio min -0.15396261455573837 Max 0.2440015561021597 Sigma 0.05801953374005332\n",
      "Ratio min -0.15452069464383306 Max 0.24687989481788597 Sigma 0.05825410242817759\n",
      "Ratio min -0.15507794786112047 Max 0.24974536157075952 Sigma 0.058492304601757916\n",
      "Ratio min -0.15563944545080355 Max 0.25260136217018536 Sigma 0.05873438866109349\n",
      "Ratio min -0.15620234928961 Max 0.2554458610669041 Sigma 0.05898010895895146\n",
      "Ratio min -0.15676972047520535 Max 0.25828089705687096 Sigma 0.05922958547135019\n",
      "Ratio min -0.15733946279038877 Max 0.26110495320420885 Sigma 0.059482619840486826\n",
      "Ratio min -0.1579114172112643 Max 0.26391785629427317 Sigma 0.05973913446253699\n",
      "Ratio min -0.15848187661765675 Max 0.26671696437328346 Sigma 0.0599988373252194\n",
      "Ratio min -0.1590557413822403 Max 0.2695056207510776 Sigma 0.060261959573708154\n",
      "Ratio min -0.15963461614427762 Max 0.27228488434478865 Sigma 0.06052852831932909\n",
      "Ratio min -0.1602135153248804 Max 0.27505124448891505 Sigma 0.0607981789364956\n",
      "Ratio min -0.1607965357451513 Max 0.2778074983627274 Sigma 0.06107108887942207\n",
      "Ratio min -0.16138021788194296 Max 0.2805511984365745 Sigma 0.061346988314408234\n",
      "Ratio min -0.16196877413528613 Max 0.2832852361807771 Sigma 0.06162605898721973\n",
      "Ratio min -0.16255484203427228 Max 0.2860044432718676 Sigma 0.061907808058371316\n",
      "Ratio min -0.16314848211432395 Max 0.2887158119983728 Sigma 0.062192756056419704\n",
      "Ratio min -0.16373906216616635 Max 0.2914118734560173 Sigma 0.0624802252809033\n",
      "Ratio min -0.16433631623733638 Max 0.29409942131661737 Sigma 0.06277071337379055\n",
      "Ratio min -0.16492985340643557 Max 0.29677114243870534 Sigma 0.06306356605407402\n",
      "Ratio min -0.16553402355075322 Max 0.2994370973850689 Sigma 0.06335953661780147\n",
      "Ratio min -0.1661302844488953 Max 0.3020842272640842 Sigma 0.06365751786355453\n",
      "Ratio min -0.16673578025918512 Max 0.30472458488535054 Sigma 0.06395841543185464\n",
      "Ratio min -0.16734357919470147 Max 0.30735328261009437 Sigma 0.06426178034612126\n",
      "Ratio min -0.16795122737499318 Max 0.30996857423443497 Sigma 0.0645674193073322\n",
      "Ratio min -0.16856154848713478 Max 0.3125724592678101 Sigma 0.06487543376518139\n",
      "Ratio min -0.16916952600899635 Max 0.315161369173173 Sigma 0.06518549294508177\n",
      "Ratio min -0.1697844886448023 Max 0.3177419148337762 Sigma 0.06549805122396442\n",
      "\n",
      "** Best Tau: 0.028\n"
     ]
    }
   ],
   "source": [
    "# Calculate best-fit tau with each method\n",
    "\n",
    "best_tau_lp = optimize_tau_lp(obsdata)\n",
    "best_tau_hg = optimize_tau_hg(obsdata)"
   ]
  },
  {
   "cell_type": "markdown",
   "id": "79ab1a2c",
   "metadata": {},
   "source": [
    "# Plot phase curve (low-phase method)"
   ]
  },
  {
   "cell_type": "code",
   "execution_count": 9,
   "id": "4e4c5c3d",
   "metadata": {},
   "outputs": [
    {
     "name": "stderr",
     "output_type": "stream",
     "text": [
      "/var/folders/qk/hcd2p1bs6tx9j0t2rkvc281w0000gn/T/ipykernel_92567/4262424914.py:1: SettingWithCopyWarning: \n",
      "A value is trying to be set on a copy of a slice from a DataFrame.\n",
      "Try using .loc[row_indexer,col_indexer] = value instead\n",
      "\n",
      "See the caveats in the documentation: https://pandas.pydata.org/pandas-docs/stable/user_guide/indexing.html#returning-a-view-versus-a-copy\n",
      "  obsdata['Total C EW LP'] = compute_corrected_ew_col(obsdata, col_tau=('Normal EWI', None,\n"
     ]
    },
    {
     "data": {
      "image/png": "[encoded data removed]",
      "text/plain": [
       "<Figure size 720x216 with 2 Axes>"
      ]
     },
     "metadata": {
      "needs_background": "light"
     },
     "output_type": "display_data"
    }
   ],
   "source": [
    "obsdata['Total C EW LP'] = compute_corrected_ew_col(obsdata, col_tau=('Normal EWI', None,\n",
    "                                                        'Normal EWC', best_tau_lp,\n",
    "                                                        'Normal EWO', None))\n",
    "hg_params_lp, hg_used_data_lp, hg_std_lp = fit_hg_phase_function(2, None, obsdata, col_tau=('Total C EW LP', None),\n",
    "                                                        verbose=False)\n",
    "\n",
    "phase_curve(hg_used_data_lp, phase_col='Mean Phase', uc_ew_col='Normal EW',\\\n",
    "            ew_col='Total C EW LP', hg_params=hg_params_lp, best_tau=best_tau_lp)"
   ]
  },
  {
   "cell_type": "markdown",
   "id": "8ddbd55d",
   "metadata": {},
   "source": [
    "# Plot phase curve (HG param method)"
   ]
  },
  {
   "cell_type": "code",
   "execution_count": 21,
   "id": "e4fbc989",
   "metadata": {},
   "outputs": [
    {
     "name": "stderr",
     "output_type": "stream",
     "text": [
      "/var/folders/qk/hcd2p1bs6tx9j0t2rkvc281w0000gn/T/ipykernel_92567/1675011848.py:1: SettingWithCopyWarning: \n",
      "A value is trying to be set on a copy of a slice from a DataFrame.\n",
      "Try using .loc[row_indexer,col_indexer] = value instead\n",
      "\n",
      "See the caveats in the documentation: https://pandas.pydata.org/pandas-docs/stable/user_guide/indexing.html#returning-a-view-versus-a-copy\n",
      "  obsdata['Total C EW HG'] = compute_corrected_ew_col(obsdata, col_tau=('Normal EWI', None,\n"
     ]
    },
    {
     "data": {
      "image/png": "[encoded data removed]",
      "text/plain": [
       "<Figure size 720x216 with 2 Axes>"
      ]
     },
     "metadata": {
      "needs_background": "light"
     },
     "output_type": "display_data"
    }
   ],
   "source": [
    "obsdata['Total C EW HG'] = compute_corrected_ew_col(obsdata, col_tau=('Normal EWI', None,\n",
    "                                                        'Normal EWC', best_tau_hg,\n",
    "                                                        'Normal EWO', None))\n",
    "hg_params_hg, hg_used_data_hg, hg_std_hg = fit_hg_phase_function(2, None, obsdata, col_tau=('Total C EW HG', None),\n",
    "                                                        verbose=False)\n",
    "\n",
    "phase_curve(hg_used_data_hg, phase_col='Mean Phase', uc_ew_col='Normal EW',\\\n",
    "            ew_col='Total C EW HG', hg_params=hg_params_hg, best_tau=best_tau_hg, outlier_obs=outliers)"
   ]
  },
  {
   "cell_type": "markdown",
   "id": "fd9d6861",
   "metadata": {},
   "source": [
    "# Plot phase curve (pre-calculated columns, HG method in create_ews)"
   ]
  },
  {
   "cell_type": "code",
   "execution_count": null,
   "id": "e9cac345",
   "metadata": {},
   "outputs": [],
   "source": [
    "plt.figure(figsize=(10,3))\n",
    "\n",
    "#plot the uncorrected points\n",
    "plt.subplot(1, 2, 1)\n",
    "plt.scatter(obsdata['Mean Phase'], obsdata['Normal EW'], c='midnightblue')\n",
    "plt.xlabel('Phase Angle (°)')\n",
    "plt.ylabel('Normal EW')\n",
    "plt.title('Normal EW vs. Phase Angle (uncorrected)')\n",
    "\n",
    "#plot the corrected points + model\n",
    "plt.subplot(1, 2, 2)\n",
    "plt.scatter(obsdata['Mean Phase'], obsdata['Normal EW3Z'], c='midnightblue')\n",
    "    \n",
    "plt.xlabel('Phase Angle (°)')\n",
    "plt.ylabel('Normal EW')\n",
    "plt.title(f'Normal EW vs. Phase Angle\\n(corrected), automatic')\n",
    "plt.show()"
   ]
  },
  {
   "cell_type": "code",
   "execution_count": null,
   "id": "a7d2ee4b",
   "metadata": {},
   "outputs": [],
   "source": []
  }
 ],
 "metadata": {
  "kernelspec": {
   "display_name": "Python 3 (ipykernel)",
   "language": "python",
   "name": "python3"
  },
  "language_info": {
   "codemirror_mode": {
    "name": "ipython",
    "version": 3
   },
   "file_extension": ".py",
   "mimetype": "text/x-python",
   "name": "python",
   "nbconvert_exporter": "python",
   "pygments_lexer": "ipython3",
   "version": "3.9.13"
  }
 },
 "nbformat": 4,
 "nbformat_minor": 5
}
